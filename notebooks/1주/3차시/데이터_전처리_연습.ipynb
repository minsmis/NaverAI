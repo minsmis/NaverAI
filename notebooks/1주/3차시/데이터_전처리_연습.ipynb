{
 "cells": [
  {
   "cell_type": "markdown",
   "metadata": {
    "id": "view-in-github",
    "colab_type": "text"
   },
   "source": [
    "<a href=\"https://colab.research.google.com/github/minsmis/NaverAI/blob/main/notebooks/1%EC%A3%BC/3%EC%B0%A8%EC%8B%9C/%EB%8D%B0%EC%9D%B4%ED%84%B0_%EC%A0%84%EC%B2%98%EB%A6%AC_%EC%97%B0%EC%8A%B5.ipynb\" target=\"_parent\"><img src=\"https://colab.research.google.com/assets/colab-badge.svg\" alt=\"Open In Colab\"/></a>"
   ],
   "id": "28d3c9b006ab243b"
  },
  {
   "cell_type": "markdown",
   "id": "optimum-jungle",
   "metadata": {
    "id": "optimum-jungle"
   },
   "source": [
    "# [3차시] 데이터 전처리 연습\n",
    "\n",
    "- 첫번째 베이스라인 모델은 머신러닝 모델을 사용하지 않고, 이전 월 고객 구매액을 계산한 후에 이를 예측값으로 사용해서 베이스라인 모델 구현했었습니다.\n",
    "- 두 번째 베이스라인 모델은 이번 강의에서 배운 LightGBM 모델을 사용해서 베이스라인 모델 구현합니다."
   ]
  },
  {
   "cell_type": "markdown",
   "source": [
    "**유의사항**\n",
    "- 첫번째 베이스라인 모델에서 이전 월 고객 구매액만을 피처로 사용하는 것과 달리 두 번째 베이스라인 모델은 2009년 12월부터 예측하기를 원하는 월의 이전 월 전체 데이터를 사용합니다.\n",
    "- 우리는 고객의 총 구매액이 300을 넘을지 말지를 예측하는 것인데 주어진 데이터는 개별 거래 데이터이기 때문에 데이터를 고객 기준으로 group by하고 count, sum, mean 등의 집계함수를 사용해서 피처를 생성합니다. (피처에 대한 상세한 설명은 다음 강의에서 진행합니다.)\n",
    "- 2011년 12월 데이터가 없기 때문에 2011년 10월을 train 데이터, 2011년 11월을 validation 데이터로 해서 LightGBM 베이스라인 모델 validation 성능을 측정합니다."
   ],
   "metadata": {
    "id": "zuKppavOXW9b"
   },
   "id": "zuKppavOXW9b"
  },
  {
   "cell_type": "markdown",
   "id": "potential-italian",
   "metadata": {
    "id": "potential-italian"
   },
   "source": [
    "## Function 정의\n",
    "\n",
    "- seed_everything() : seed 고정 함수\n",
    "- generate_label() : label 생성 함수\n",
    "- print_score() : 평가지표 출력 함수\n",
    "- feature_preprocessing() : 데이터 전처리 함수(label encoding, 결측치 처리)\n",
    "- feature_engineering1() : 피처 엔지니어링 함수\n",
    "- make_lgb_prediction() : LightGBM train/predict 함수\n",
    "- plot_feature_importances() : LightGBM 피처 중요도 플롯 함수"
   ]
  },
  {
   "cell_type": "markdown",
   "id": "tutorial-sessions",
   "metadata": {
    "id": "tutorial-sessions"
   },
   "source": [
    "## Library Import"
   ]
  },
  {
   "cell_type": "code",
   "id": "formal-winter",
   "metadata": {
    "id": "formal-winter",
    "ExecuteTime": {
     "end_time": "2024-04-27T09:06:08.116040Z",
     "start_time": "2024-04-27T09:06:07.719336Z"
    }
   },
   "source": [
    "# Suppress warnings\n",
    "import warnings\n",
    "\n",
    "warnings.filterwarnings('ignore')\n",
    "\n",
    "import os, sys, gc, warnings, random\n",
    "from typing import List\n",
    "\n",
    "import datetime\n",
    "import dateutil.relativedelta\n",
    "\n",
    "# Data manipulation\n",
    "import pandas as pd\n",
    "import numpy as np\n",
    "\n",
    "# Visualization\n",
    "import matplotlib.pyplot as plt\n",
    "import seaborn as sns\n",
    "\n",
    "# Machine learning\n",
    "from sklearn.pipeline import Pipeline\n",
    "from sklearn.preprocessing import MinMaxScaler, LabelEncoder\n",
    "from sklearn.impute import SimpleImputer\n",
    "from sklearn.metrics import precision_score, recall_score, f1_score, roc_auc_score, precision_recall_curve, roc_curve\n",
    "from sklearn.model_selection import train_test_split, cross_val_score, KFold, StratifiedKFold, GroupKFold\n",
    "from sklearn.ensemble import RandomForestClassifier\n",
    "\n",
    "import lightgbm as lgb\n",
    "\n",
    "from tqdm.notebook import trange, tqdm\n",
    "\n",
    "from IPython.display import display\n",
    "\n",
    "%matplotlib inline\n",
    "\n",
    "pd.options.display.max_rows = 10000\n",
    "pd.options.display.max_columns = 1000\n",
    "pd.options.display.max_colwidth = 1000"
   ],
   "outputs": [],
   "execution_count": 1
  },
  {
   "cell_type": "markdown",
   "id": "parallel-provincial",
   "metadata": {
    "id": "parallel-provincial"
   },
   "source": [
    "## Fix Seed 함수 정의"
   ]
  },
  {
   "cell_type": "code",
   "id": "boolean-edition",
   "metadata": {
    "id": "boolean-edition",
    "ExecuteTime": {
     "end_time": "2024-04-27T09:06:08.121422Z",
     "start_time": "2024-04-27T09:06:08.118085Z"
    }
   },
   "source": [
    "'''\n",
    "    결과의 재현성을 위해 seed 값을 설정하는 함수\n",
    "'''\n",
    "\n",
    "\n",
    "def seed_everything(seed=0):\n",
    "    random.seed(seed)\n",
    "    os.environ['PYTHONHASHSEED'] = str(seed)\n",
    "    np.random.seed(seed)\n",
    "\n",
    "\n",
    "SEED = 42\n",
    "seed_everything(SEED)"
   ],
   "outputs": [],
   "execution_count": 2
  },
  {
   "cell_type": "markdown",
   "id": "systematic-rocket",
   "metadata": {
    "id": "systematic-rocket"
   },
   "source": [
    "## 레이블 생성 함수 정의\n",
    "\n",
    "- 레이블 생성 함수는 연월을 인자로 받아서 고객 아이디별로 총 구매액이 인자로 받는 구매액 임계값을 넘는지 여부를 바이너리 레이블로 생성하는 함수"
   ]
  },
  {
   "cell_type": "code",
   "id": "abandoned-japan",
   "metadata": {
    "id": "abandoned-japan",
    "ExecuteTime": {
     "end_time": "2024-04-27T09:06:09.996604Z",
     "start_time": "2024-04-27T09:06:09.989491Z"
    }
   },
   "source": [
    "TOTAL_THRES = 300\n",
    "\n",
    "'''\n",
    "    입력인자로 받는 year_month에 대해 고객 ID별로 총 구매액이\n",
    "    구매액 임계값을 넘는지 여부의 binary label을 생성하는 함수\n",
    "'''\n",
    "\n",
    "\n",
    "def generate_label(\n",
    "        df: pd.DataFrame,\n",
    "        year_month: str,\n",
    "        total_thres: int = TOTAL_THRES,\n",
    "        print_log: bool = False\n",
    "):\n",
    "    df = df.copy()\n",
    "\n",
    "    # year_month에 해당하는 label 데이터 생성\n",
    "    df['year_month'] = df['order_date'].dt.strftime('%Y-%m')\n",
    "    df.reset_index(drop=True, inplace=True)\n",
    "\n",
    "    # year_month 이전 월의 고객 ID 추출\n",
    "    cust = df[df['year_month'] < year_month]['customer_id'].unique()\n",
    "    # year_month에 해당하는 데이터 선택\n",
    "    df = df[df['year_month'] == year_month]\n",
    "\n",
    "    # label 데이터프레임 생성\n",
    "    label = pd.DataFrame({'customer_id': cust})\n",
    "    label['year_month'] = year_month\n",
    "\n",
    "    # year_month에 해당하는 고객 ID의 구매액의 합 계산\n",
    "    grped = df.groupby(['customer_id', 'year_month'], as_index=False)[['total']].sum()\n",
    "\n",
    "    # label 데이터프레임과 merge하고 구매액 임계값을 넘었는지 여부로 label 생성\n",
    "    label = label.merge(grped, on=['customer_id', 'year_month'], how='left')\n",
    "    label['total'].fillna(0.0, inplace=True)\n",
    "    label['label'] = (label['total'] > total_thres).astype(int)\n",
    "\n",
    "    # 고객 ID로 정렬\n",
    "    label = label.sort_values('customer_id').reset_index(drop=True)\n",
    "    if print_log: print(f'{year_month} - final label shape: {label.shape}')\n",
    "\n",
    "    return label"
   ],
   "outputs": [],
   "execution_count": 3
  },
  {
   "cell_type": "code",
   "id": "national-cancer",
   "metadata": {
    "id": "national-cancer",
    "ExecuteTime": {
     "end_time": "2024-04-27T09:06:18.172990Z",
     "start_time": "2024-04-27T09:06:18.166642Z"
    }
   },
   "source": [
    "'''\n",
    "    평가지표를 출력하는 함수\n",
    "'''\n",
    "\n",
    "\n",
    "def print_score(label: List[float], pred: List[float], prob_thres: float = 0.5):\n",
    "    print('Precision: {:.5f}'.format(precision_score(label, pred > prob_thres)))\n",
    "    print('Recall: {:.5f}'.format(recall_score(label, pred > prob_thres)))\n",
    "    print('F1 Score: {:.5f}'.format(f1_score(label, pred > prob_thres)))\n",
    "    print('ROC AUC Score: {:.5f}'.format(roc_auc_score(label, pred)))"
   ],
   "outputs": [],
   "execution_count": 4
  },
  {
   "metadata": {},
   "cell_type": "markdown",
   "source": "## 평가지표 출력 함수 정의",
   "id": "stable-essence"
  },
  {
   "cell_type": "markdown",
   "id": "polar-blackjack",
   "metadata": {
    "id": "polar-blackjack"
   },
   "source": [
    "## 데이터 전처리 함수 정의\n",
    "- 범주형 변수 레이블 인코딩\n",
    "- 결측치 중위값으로 채움"
   ]
  },
  {
   "cell_type": "code",
   "id": "rolled-volleyball",
   "metadata": {
    "id": "rolled-volleyball",
    "ExecuteTime": {
     "end_time": "2024-04-27T09:06:20.270812Z",
     "start_time": "2024-04-27T09:06:20.264664Z"
    }
   },
   "source": [
    "'''\n",
    "    입력인자로 받는 train, test 데이터에 대해 범주형 피쳐는 레이블 인코딩을\n",
    "    진행하고 결측치에 대해서는 중위값으로 데이터 전처리를 하는 함수\n",
    "'''\n",
    "\n",
    "\n",
    "def feature_preprocessing(\n",
    "        train: pd.DataFrame,\n",
    "        test: pd.DataFrame,\n",
    "        features: list,\n",
    "        do_imputing=True\n",
    "):\n",
    "    x_tr = train.copy()\n",
    "    x_te = test.copy()\n",
    "\n",
    "    # 범주형 피처 이름을 저장할 변수\n",
    "    cate_cols = []\n",
    "\n",
    "    # 레이블 인코딩\n",
    "    for f in features:\n",
    "        if x_tr[f].dtype.name == 'object':  # 데이터 타입이 object(str)이면 레이블 인코딩\n",
    "            cate_cols.append(f)\n",
    "            le = LabelEncoder()\n",
    "            # train + test 데이터를 합쳐서 레이블 인코딩 함수에 fit\n",
    "            le.fit(list(x_tr[f].values) + list(x_te[f].values))\n",
    "\n",
    "            # train 데이터 레이블 인코딩 변환 수행\n",
    "            x_tr[f] = le.transform(list(x_tr[f].values))\n",
    "\n",
    "            # test 데이터 레이블 인코딩 변환 수행\n",
    "            x_te[f] = le.transform(list(x_te[f].values))\n",
    "\n",
    "    print('categorical feature:', cate_cols)\n",
    "\n",
    "    if do_imputing:\n",
    "        # 중위값으로 결측치 채우기\n",
    "        imputer = SimpleImputer(strategy='median')\n",
    "\n",
    "        x_tr[features] = imputer.fit_transform(x_tr[features])\n",
    "        x_te[features] = imputer.transform(x_te[features])\n",
    "\n",
    "    return x_tr, x_te"
   ],
   "outputs": [],
   "execution_count": 5
  },
  {
   "cell_type": "markdown",
   "id": "nearby-recycling",
   "metadata": {
    "id": "nearby-recycling"
   },
   "source": [
    "## 피처 엔지니어링 함수 정의\n",
    "- Pandas groupby aggregation 함수를 사용한 피처 엔지니어링"
   ]
  },
  {
   "cell_type": "code",
   "id": "continuing-story",
   "metadata": {
    "id": "continuing-story",
    "ExecuteTime": {
     "end_time": "2024-04-27T09:06:21.769180Z",
     "start_time": "2024-04-27T09:06:21.762728Z"
    }
   },
   "source": [
    "'''\n",
    "    입력인자로 받는 year_month와 변수 prev_ym 기준으로 train, test 데이터를 생성 하고\n",
    "    집계(aggregation) 함수를 사용하여 피처 엔지니어링을 하는 함수\n",
    "'''\n",
    "\n",
    "\n",
    "def feature_engineering1(df: pd.DataFrame, year_month: str):\n",
    "    df = df.copy()\n",
    "\n",
    "    # year_month 이전 월 계산\n",
    "    d = datetime.datetime.strptime(year_month, \"%Y-%m\")\n",
    "    prev_ym = d - dateutil.relativedelta.relativedelta(months=1)\n",
    "    prev_ym = prev_ym.strftime('%Y-%m')\n",
    "\n",
    "    # train, test 데이터 선택\n",
    "    train = df[df['order_date'] < prev_ym]\n",
    "    test = df[df['order_date'] < year_month]\n",
    "\n",
    "    # train, test 레이블 데이터 생성\n",
    "    train_label = generate_label(df, prev_ym)[['customer_id', 'year_month', 'label']]\n",
    "    test_label = generate_label(df, year_month)[['customer_id', 'year_month', 'label']]\n",
    "\n",
    "    # group by aggregation 함수 선언\n",
    "    agg_func = ['mean', 'max', 'min', 'sum', 'count', 'std', 'skew']\n",
    "    all_train_data = pd.DataFrame()\n",
    "\n",
    "    for i, tr_ym in enumerate(train_label['year_month'].unique()):\n",
    "        # group by aggregation 함수로 train 데이터 피처 생성\n",
    "        train_agg = train.loc[train['order_date'] < tr_ym, ['customer_id', 'price', 'quantity', 'total']].groupby(\n",
    "            ['customer_id']).agg(agg_func)  # Get numeric column only and apply group by agg.\n",
    "        \n",
    "        # 멀티 레벨 컬럼을 사용하기 쉽게 1 레벨 컬럼명으로 변경\n",
    "        new_cols = []\n",
    "        for col in train_agg.columns.levels[0]:\n",
    "            for stat in train_agg.columns.levels[1]:\n",
    "                new_cols.append(f'{col}-{stat}')\n",
    "\n",
    "        train_agg.columns = new_cols\n",
    "        train_agg.reset_index(inplace=True)\n",
    "\n",
    "        train_agg['year_month'] = tr_ym\n",
    "\n",
    "        all_train_data = all_train_data._append(train_agg)\n",
    "\n",
    "    all_train_data = train_label.merge(all_train_data, on=['customer_id', 'year_month'], how='left')\n",
    "    features = all_train_data.drop(columns=['customer_id', 'label', 'year_month']).columns\n",
    "\n",
    "    # group by aggretation 함수로 test 데이터 피처 생성\n",
    "    test_agg = test[['customer_id', 'price', 'quantity', 'total']].groupby(\n",
    "        ['customer_id']).agg(agg_func)  # Get numeric column only and apply group by agg.\n",
    "    test_agg.columns = new_cols\n",
    "\n",
    "    test_data = test_label.merge(test_agg, on=['customer_id'], how='left')\n",
    "\n",
    "    # train, test 데이터 전처리\n",
    "    x_tr, x_te = feature_preprocessing(all_train_data, test_data, features)\n",
    "\n",
    "    print('x_tr.shape', x_tr.shape, ', x_te.shape', x_te.shape)\n",
    "\n",
    "    return x_tr, x_te, all_train_data['label'], features"
   ],
   "outputs": [],
   "execution_count": 6
  },
  {
   "cell_type": "markdown",
   "id": "advisory-communication",
   "metadata": {
    "id": "advisory-communication"
   },
   "source": [
    "## LightGBM train/predict 함수 정의"
   ]
  },
  {
   "cell_type": "code",
   "id": "welsh-national",
   "metadata": {
    "id": "welsh-national",
    "ExecuteTime": {
     "end_time": "2024-04-27T09:06:23.460354Z",
     "start_time": "2024-04-27T09:06:23.457459Z"
    }
   },
   "source": [
    "'''\n",
    "    학습 데이터(train), 테스트 데이터(test)로 LightGBM 모델을\n",
    "    학습 및 테스트하고 사용된 피처들의 중요도를 반환하는 함수\n",
    "'''\n",
    "\n",
    "\n",
    "def make_lgb_prediction(train, y, test, features, categorical_features='auto', model_params=None):\n",
    "    x_train = train[features]\n",
    "    x_test = test[features]\n",
    "\n",
    "    print(x_train.shape, x_test.shape)\n",
    "\n",
    "    # 피처 중요도를 저장할 데이터 프레임 선언\n",
    "    fi = pd.DataFrame()\n",
    "    fi['feature'] = features\n",
    "\n",
    "    # LightGBM 데이터셋 선언\n",
    "    dtrain = lgb.Dataset(x_train, label=y)\n",
    "\n",
    "    # LightGBM 모델 훈련\n",
    "    clf = lgb.train(\n",
    "        model_params,\n",
    "        dtrain,\n",
    "        categorical_feature=categorical_features,\n",
    "    )\n",
    "\n",
    "    # 테스트 데이터 예측\n",
    "    test_preds = clf.predict(x_test)\n",
    "\n",
    "    # 피처 중요도 저장\n",
    "    fi['importance'] = clf.feature_importance()\n",
    "\n",
    "    return test_preds, fi"
   ],
   "outputs": [],
   "execution_count": 7
  },
  {
   "cell_type": "markdown",
   "id": "widespread-revolution",
   "metadata": {
    "id": "widespread-revolution"
   },
   "source": [
    "## LightGBM 피처 중요도 플롯 함수 정의"
   ]
  },
  {
   "cell_type": "code",
   "id": "viral-sphere",
   "metadata": {
    "id": "viral-sphere",
    "ExecuteTime": {
     "end_time": "2024-04-27T09:06:24.875663Z",
     "start_time": "2024-04-27T09:06:24.869085Z"
    }
   },
   "source": [
    "'''\n",
    "    피처 중요도 정규화(importance_normalized) 및 누적 중요도(cumulative_importance)를 계산하고\n",
    "    중요도 정규화 순으로 n개의 바플롯을 그리는 함수\n",
    "'''\n",
    "\n",
    "\n",
    "def plot_feature_importances(df, n=20, color='blue', figsize=(12, 8)):\n",
    "    # 피처 중요도 순으로 내림차순 정렬\n",
    "    df = df.sort_values('importance', ascending=False).reset_index(drop=True)\n",
    "\n",
    "    # 피처 중요도 정규화 및 누적 중요도 계산\n",
    "    df['importance_normalized'] = df['importance'] / df['importance'].sum()\n",
    "    df['cumulative_importance'] = np.cumsum(df['importance_normalized'])\n",
    "\n",
    "    plt.rcParams['font.size'] = 12\n",
    "    plt.style.use('fivethirtyeight')\n",
    "    # 피처 중요도 순으로 n개까지 바플롯으로 그리기\n",
    "    df.loc[:n, :].plot.barh(y='importance_normalized',\n",
    "                            x='feature', color=color,\n",
    "                            edgecolor='k', figsize=figsize,\n",
    "                            legend=False)\n",
    "\n",
    "    plt.xlabel('Normalized Importance', size=18);\n",
    "    plt.ylabel('');\n",
    "    plt.title(f'Top {n} Most Important Features', size=18)\n",
    "    plt.gca().invert_yaxis()\n",
    "\n",
    "    return df"
   ],
   "outputs": [],
   "execution_count": 8
  },
  {
   "cell_type": "markdown",
   "id": "proved-science",
   "metadata": {
    "id": "proved-science"
   },
   "source": [
    "## Train 데이터 읽기\n",
    "- 9개의 feature를 가진 780502개의 train data"
   ]
  },
  {
   "cell_type": "code",
   "id": "alternate-electric",
   "metadata": {
    "id": "alternate-electric",
    "outputId": "1250b2f5-1922-44f1-a31c-486273d5f9a3",
    "ExecuteTime": {
     "end_time": "2024-04-27T09:06:27.762080Z",
     "start_time": "2024-04-27T09:06:27.187315Z"
    }
   },
   "source": [
    "data = pd.read_csv(\"./input/train.csv\", parse_dates=[\"order_date\"])\n",
    "print(data.shape)  # data shape 확인\n",
    "data.head()"
   ],
   "outputs": [
    {
     "name": "stdout",
     "output_type": "stream",
     "text": [
      "(780502, 9)\n"
     ]
    },
    {
     "data": {
      "text/plain": [
       "  order_id product_id                          description  quantity  \\\n",
       "0   489434      85048  15CM CHRISTMAS GLASS BALL 20 LIGHTS        12   \n",
       "1   489434     79323P                   PINK CHERRY LIGHTS        12   \n",
       "2   489434     79323W                  WHITE CHERRY LIGHTS        12   \n",
       "3   489434      22041         RECORD FRAME 7\" SINGLE SIZE         48   \n",
       "4   489434      21232       STRAWBERRY CERAMIC TRINKET BOX        24   \n",
       "\n",
       "           order_date    price  customer_id         country   total  \n",
       "0 2009-12-01 07:45:00  11.4675        13085  United Kingdom  137.61  \n",
       "1 2009-12-01 07:45:00  11.1375        13085  United Kingdom  133.65  \n",
       "2 2009-12-01 07:45:00  11.1375        13085  United Kingdom  133.65  \n",
       "3 2009-12-01 07:45:00   3.4650        13085  United Kingdom  166.32  \n",
       "4 2009-12-01 07:45:00   2.0625        13085  United Kingdom   49.50  "
      ],
      "text/html": [
       "<div>\n",
       "<style scoped>\n",
       "    .dataframe tbody tr th:only-of-type {\n",
       "        vertical-align: middle;\n",
       "    }\n",
       "\n",
       "    .dataframe tbody tr th {\n",
       "        vertical-align: top;\n",
       "    }\n",
       "\n",
       "    .dataframe thead th {\n",
       "        text-align: right;\n",
       "    }\n",
       "</style>\n",
       "<table border=\"1\" class=\"dataframe\">\n",
       "  <thead>\n",
       "    <tr style=\"text-align: right;\">\n",
       "      <th></th>\n",
       "      <th>order_id</th>\n",
       "      <th>product_id</th>\n",
       "      <th>description</th>\n",
       "      <th>quantity</th>\n",
       "      <th>order_date</th>\n",
       "      <th>price</th>\n",
       "      <th>customer_id</th>\n",
       "      <th>country</th>\n",
       "      <th>total</th>\n",
       "    </tr>\n",
       "  </thead>\n",
       "  <tbody>\n",
       "    <tr>\n",
       "      <th>0</th>\n",
       "      <td>489434</td>\n",
       "      <td>85048</td>\n",
       "      <td>15CM CHRISTMAS GLASS BALL 20 LIGHTS</td>\n",
       "      <td>12</td>\n",
       "      <td>2009-12-01 07:45:00</td>\n",
       "      <td>11.4675</td>\n",
       "      <td>13085</td>\n",
       "      <td>United Kingdom</td>\n",
       "      <td>137.61</td>\n",
       "    </tr>\n",
       "    <tr>\n",
       "      <th>1</th>\n",
       "      <td>489434</td>\n",
       "      <td>79323P</td>\n",
       "      <td>PINK CHERRY LIGHTS</td>\n",
       "      <td>12</td>\n",
       "      <td>2009-12-01 07:45:00</td>\n",
       "      <td>11.1375</td>\n",
       "      <td>13085</td>\n",
       "      <td>United Kingdom</td>\n",
       "      <td>133.65</td>\n",
       "    </tr>\n",
       "    <tr>\n",
       "      <th>2</th>\n",
       "      <td>489434</td>\n",
       "      <td>79323W</td>\n",
       "      <td>WHITE CHERRY LIGHTS</td>\n",
       "      <td>12</td>\n",
       "      <td>2009-12-01 07:45:00</td>\n",
       "      <td>11.1375</td>\n",
       "      <td>13085</td>\n",
       "      <td>United Kingdom</td>\n",
       "      <td>133.65</td>\n",
       "    </tr>\n",
       "    <tr>\n",
       "      <th>3</th>\n",
       "      <td>489434</td>\n",
       "      <td>22041</td>\n",
       "      <td>RECORD FRAME 7\" SINGLE SIZE</td>\n",
       "      <td>48</td>\n",
       "      <td>2009-12-01 07:45:00</td>\n",
       "      <td>3.4650</td>\n",
       "      <td>13085</td>\n",
       "      <td>United Kingdom</td>\n",
       "      <td>166.32</td>\n",
       "    </tr>\n",
       "    <tr>\n",
       "      <th>4</th>\n",
       "      <td>489434</td>\n",
       "      <td>21232</td>\n",
       "      <td>STRAWBERRY CERAMIC TRINKET BOX</td>\n",
       "      <td>24</td>\n",
       "      <td>2009-12-01 07:45:00</td>\n",
       "      <td>2.0625</td>\n",
       "      <td>13085</td>\n",
       "      <td>United Kingdom</td>\n",
       "      <td>49.50</td>\n",
       "    </tr>\n",
       "  </tbody>\n",
       "</table>\n",
       "</div>"
      ]
     },
     "execution_count": 9,
     "metadata": {},
     "output_type": "execute_result"
    }
   ],
   "execution_count": 9
  },
  {
   "cell_type": "markdown",
   "id": "natural-recognition",
   "metadata": {
    "id": "natural-recognition"
   },
   "source": [
    "## Pandas info() 함수로 데이터 타입 및 null 체크"
   ]
  },
  {
   "cell_type": "code",
   "id": "engaging-hospital",
   "metadata": {
    "id": "engaging-hospital",
    "outputId": "63e823ac-eca7-4e29-f8c9-dfd80743290d",
    "ExecuteTime": {
     "end_time": "2024-04-27T09:06:32.535329Z",
     "start_time": "2024-04-27T09:06:32.442940Z"
    }
   },
   "source": [
    "data.info()"
   ],
   "outputs": [
    {
     "name": "stdout",
     "output_type": "stream",
     "text": [
      "<class 'pandas.core.frame.DataFrame'>\n",
      "RangeIndex: 780502 entries, 0 to 780501\n",
      "Data columns (total 9 columns):\n",
      " #   Column       Non-Null Count   Dtype         \n",
      "---  ------       --------------   -----         \n",
      " 0   order_id     780502 non-null  object        \n",
      " 1   product_id   780502 non-null  object        \n",
      " 2   description  780502 non-null  object        \n",
      " 3   quantity     780502 non-null  int64         \n",
      " 4   order_date   780502 non-null  datetime64[ns]\n",
      " 5   price        780502 non-null  float64       \n",
      " 6   customer_id  780502 non-null  int64         \n",
      " 7   country      780502 non-null  object        \n",
      " 8   total        780502 non-null  float64       \n",
      "dtypes: datetime64[ns](1), float64(2), int64(2), object(4)\n",
      "memory usage: 53.6+ MB\n"
     ]
    }
   ],
   "execution_count": 10
  },
  {
   "cell_type": "markdown",
   "id": "loose-lingerie",
   "metadata": {
    "id": "loose-lingerie"
   },
   "source": "## Pandas isna(), sum() 함수로 null 데이터 개수 체크"
  },
  {
   "cell_type": "code",
   "id": "honest-coaching",
   "metadata": {
    "id": "honest-coaching",
    "outputId": "889acdb2-2525-4247-c2cc-fc587ec9e4fa",
    "ExecuteTime": {
     "end_time": "2024-04-27T09:06:34.434369Z",
     "start_time": "2024-04-27T09:06:34.353021Z"
    }
   },
   "source": [
    "data.isna().sum()"
   ],
   "outputs": [
    {
     "data": {
      "text/plain": [
       "order_id       0\n",
       "product_id     0\n",
       "description    0\n",
       "quantity       0\n",
       "order_date     0\n",
       "price          0\n",
       "customer_id    0\n",
       "country        0\n",
       "total          0\n",
       "dtype: int64"
      ]
     },
     "execution_count": 11,
     "metadata": {},
     "output_type": "execute_result"
    }
   ],
   "execution_count": 11
  },
  {
   "cell_type": "markdown",
   "id": "raised-family",
   "metadata": {
    "id": "raised-family"
   },
   "source": [
    "## Pandas describe() 함수에 include='all' 인자 설정으로 수치형, 범주형 데이터 기본 통계량 확인"
   ]
  },
  {
   "cell_type": "code",
   "id": "excess-university",
   "metadata": {
    "id": "excess-university",
    "outputId": "6d5de130-a1e5-461f-eb46-7f975c207e90",
    "ExecuteTime": {
     "end_time": "2024-04-27T09:06:37.642961Z",
     "start_time": "2024-04-27T09:06:37.410148Z"
    }
   },
   "source": [
    "data.describe(include='all')"
   ],
   "outputs": [
    {
     "data": {
      "text/plain": [
       "       order_id product_id                         description       quantity  \\\n",
       "count    780502     780502                              780502  780502.000000   \n",
       "unique    43955       4645                                5297            NaN   \n",
       "top      576339     85123A  WHITE HANGING HEART T-LIGHT HOLDER            NaN   \n",
       "freq        542       5096                                5096            NaN   \n",
       "mean        NaN        NaN                                 NaN      12.623307   \n",
       "min         NaN        NaN                                 NaN  -74215.000000   \n",
       "25%         NaN        NaN                                 NaN       2.000000   \n",
       "50%         NaN        NaN                                 NaN       5.000000   \n",
       "75%         NaN        NaN                                 NaN      12.000000   \n",
       "max         NaN        NaN                                 NaN   74215.000000   \n",
       "std         NaN        NaN                                 NaN     143.906302   \n",
       "\n",
       "                           order_date          price    customer_id  \\\n",
       "count                          780502  780502.000000  780502.000000   \n",
       "unique                            NaN            NaN            NaN   \n",
       "top                               NaN            NaN            NaN   \n",
       "freq                              NaN            NaN            NaN   \n",
       "mean    2010-12-26 01:08:30.093324288       6.140931   15313.393466   \n",
       "min               2009-12-01 07:45:00       0.000000   12346.000000   \n",
       "25%               2010-06-29 11:10:00       2.062500   13963.000000   \n",
       "50%               2010-11-28 13:40:00       3.217500   15239.000000   \n",
       "75%               2011-07-18 11:55:00       6.187500   16788.000000   \n",
       "max               2011-11-30 17:42:00   64300.500000   18287.000000   \n",
       "std                               NaN     119.042266    1695.765797   \n",
       "\n",
       "               country          total  \n",
       "count           780502  780502.000000  \n",
       "unique              41            NaN  \n",
       "top     United Kingdom            NaN  \n",
       "freq            700317            NaN  \n",
       "mean               NaN      33.715373  \n",
       "min                NaN -127352.940000  \n",
       "25%                NaN       7.260000  \n",
       "50%                NaN      19.470000  \n",
       "75%                NaN      32.175000  \n",
       "max                NaN  127352.940000  \n",
       "std                NaN     274.207403  "
      ],
      "text/html": [
       "<div>\n",
       "<style scoped>\n",
       "    .dataframe tbody tr th:only-of-type {\n",
       "        vertical-align: middle;\n",
       "    }\n",
       "\n",
       "    .dataframe tbody tr th {\n",
       "        vertical-align: top;\n",
       "    }\n",
       "\n",
       "    .dataframe thead th {\n",
       "        text-align: right;\n",
       "    }\n",
       "</style>\n",
       "<table border=\"1\" class=\"dataframe\">\n",
       "  <thead>\n",
       "    <tr style=\"text-align: right;\">\n",
       "      <th></th>\n",
       "      <th>order_id</th>\n",
       "      <th>product_id</th>\n",
       "      <th>description</th>\n",
       "      <th>quantity</th>\n",
       "      <th>order_date</th>\n",
       "      <th>price</th>\n",
       "      <th>customer_id</th>\n",
       "      <th>country</th>\n",
       "      <th>total</th>\n",
       "    </tr>\n",
       "  </thead>\n",
       "  <tbody>\n",
       "    <tr>\n",
       "      <th>count</th>\n",
       "      <td>780502</td>\n",
       "      <td>780502</td>\n",
       "      <td>780502</td>\n",
       "      <td>780502.000000</td>\n",
       "      <td>780502</td>\n",
       "      <td>780502.000000</td>\n",
       "      <td>780502.000000</td>\n",
       "      <td>780502</td>\n",
       "      <td>780502.000000</td>\n",
       "    </tr>\n",
       "    <tr>\n",
       "      <th>unique</th>\n",
       "      <td>43955</td>\n",
       "      <td>4645</td>\n",
       "      <td>5297</td>\n",
       "      <td>NaN</td>\n",
       "      <td>NaN</td>\n",
       "      <td>NaN</td>\n",
       "      <td>NaN</td>\n",
       "      <td>41</td>\n",
       "      <td>NaN</td>\n",
       "    </tr>\n",
       "    <tr>\n",
       "      <th>top</th>\n",
       "      <td>576339</td>\n",
       "      <td>85123A</td>\n",
       "      <td>WHITE HANGING HEART T-LIGHT HOLDER</td>\n",
       "      <td>NaN</td>\n",
       "      <td>NaN</td>\n",
       "      <td>NaN</td>\n",
       "      <td>NaN</td>\n",
       "      <td>United Kingdom</td>\n",
       "      <td>NaN</td>\n",
       "    </tr>\n",
       "    <tr>\n",
       "      <th>freq</th>\n",
       "      <td>542</td>\n",
       "      <td>5096</td>\n",
       "      <td>5096</td>\n",
       "      <td>NaN</td>\n",
       "      <td>NaN</td>\n",
       "      <td>NaN</td>\n",
       "      <td>NaN</td>\n",
       "      <td>700317</td>\n",
       "      <td>NaN</td>\n",
       "    </tr>\n",
       "    <tr>\n",
       "      <th>mean</th>\n",
       "      <td>NaN</td>\n",
       "      <td>NaN</td>\n",
       "      <td>NaN</td>\n",
       "      <td>12.623307</td>\n",
       "      <td>2010-12-26 01:08:30.093324288</td>\n",
       "      <td>6.140931</td>\n",
       "      <td>15313.393466</td>\n",
       "      <td>NaN</td>\n",
       "      <td>33.715373</td>\n",
       "    </tr>\n",
       "    <tr>\n",
       "      <th>min</th>\n",
       "      <td>NaN</td>\n",
       "      <td>NaN</td>\n",
       "      <td>NaN</td>\n",
       "      <td>-74215.000000</td>\n",
       "      <td>2009-12-01 07:45:00</td>\n",
       "      <td>0.000000</td>\n",
       "      <td>12346.000000</td>\n",
       "      <td>NaN</td>\n",
       "      <td>-127352.940000</td>\n",
       "    </tr>\n",
       "    <tr>\n",
       "      <th>25%</th>\n",
       "      <td>NaN</td>\n",
       "      <td>NaN</td>\n",
       "      <td>NaN</td>\n",
       "      <td>2.000000</td>\n",
       "      <td>2010-06-29 11:10:00</td>\n",
       "      <td>2.062500</td>\n",
       "      <td>13963.000000</td>\n",
       "      <td>NaN</td>\n",
       "      <td>7.260000</td>\n",
       "    </tr>\n",
       "    <tr>\n",
       "      <th>50%</th>\n",
       "      <td>NaN</td>\n",
       "      <td>NaN</td>\n",
       "      <td>NaN</td>\n",
       "      <td>5.000000</td>\n",
       "      <td>2010-11-28 13:40:00</td>\n",
       "      <td>3.217500</td>\n",
       "      <td>15239.000000</td>\n",
       "      <td>NaN</td>\n",
       "      <td>19.470000</td>\n",
       "    </tr>\n",
       "    <tr>\n",
       "      <th>75%</th>\n",
       "      <td>NaN</td>\n",
       "      <td>NaN</td>\n",
       "      <td>NaN</td>\n",
       "      <td>12.000000</td>\n",
       "      <td>2011-07-18 11:55:00</td>\n",
       "      <td>6.187500</td>\n",
       "      <td>16788.000000</td>\n",
       "      <td>NaN</td>\n",
       "      <td>32.175000</td>\n",
       "    </tr>\n",
       "    <tr>\n",
       "      <th>max</th>\n",
       "      <td>NaN</td>\n",
       "      <td>NaN</td>\n",
       "      <td>NaN</td>\n",
       "      <td>74215.000000</td>\n",
       "      <td>2011-11-30 17:42:00</td>\n",
       "      <td>64300.500000</td>\n",
       "      <td>18287.000000</td>\n",
       "      <td>NaN</td>\n",
       "      <td>127352.940000</td>\n",
       "    </tr>\n",
       "    <tr>\n",
       "      <th>std</th>\n",
       "      <td>NaN</td>\n",
       "      <td>NaN</td>\n",
       "      <td>NaN</td>\n",
       "      <td>143.906302</td>\n",
       "      <td>NaN</td>\n",
       "      <td>119.042266</td>\n",
       "      <td>1695.765797</td>\n",
       "      <td>NaN</td>\n",
       "      <td>274.207403</td>\n",
       "    </tr>\n",
       "  </tbody>\n",
       "</table>\n",
       "</div>"
      ]
     },
     "execution_count": 12,
     "metadata": {},
     "output_type": "execute_result"
    }
   ],
   "execution_count": 12
  },
  {
   "cell_type": "markdown",
   "id": "sixth-wallace",
   "metadata": {
    "id": "sixth-wallace"
   },
   "source": [
    "## 2011년 11월 Label 데이터 생성"
   ]
  },
  {
   "metadata": {},
   "cell_type": "markdown",
   "source": "## Label 데이터 분포 플롯",
   "id": "varied-parker"
  },
  {
   "metadata": {
    "ExecuteTime": {
     "end_time": "2024-04-27T09:06:48.824676Z",
     "start_time": "2024-04-27T09:06:47.394727Z"
    }
   },
   "cell_type": "code",
   "source": "label_2011_11 = generate_label(data, '2011-11')['label']",
   "id": "formed-commission",
   "outputs": [],
   "execution_count": 13
  },
  {
   "metadata": {},
   "cell_type": "code",
   "outputs": [
    {
     "data": {
      "text/plain": [
       "label\n",
       "0    851\n",
       "Name: count, dtype: int64"
      ]
     },
     "execution_count": 14,
     "metadata": {},
     "output_type": "execute_result"
    },
    {
     "data": {
      "text/plain": [
       "<Figure size 640x480 with 1 Axes>"
      ],
      "image/png": "[encoded data removed]"
     },
     "metadata": {},
     "output_type": "display_data"
    }
   ],
   "execution_count": 14,
   "source": [
    "sns.countplot(label_2011_11)\n",
    "label_2011_11.value_counts()"
   ],
   "id": "instant-center"
  },
  {
   "cell_type": "markdown",
   "id": "invalid-exhibit",
   "metadata": {
    "id": "invalid-exhibit"
   },
   "source": [
    "## LightGBM Hyperparameter 선언"
   ]
  },
  {
   "cell_type": "code",
   "id": "honey-liability",
   "metadata": {
    "id": "honey-liability",
    "ExecuteTime": {
     "end_time": "2024-04-27T09:07:05.606224Z",
     "start_time": "2024-04-27T09:07:05.600710Z"
    }
   },
   "source": [
    "model_params = {\n",
    "    'objective': 'binary',  # 이진 분류\n",
    "    'boosting_type': 'gbdt',\n",
    "    'metric': 'auc',  # 평가 지표 설정\n",
    "    'feature_fraction': 0.8,  # 피처 샘플링 비율\n",
    "    'bagging_fraction': 0.8,  # 데이터 샘플링 비율\n",
    "    'bagging_freq': 1,\n",
    "    'n_estimators': 100,  # 트리 개수\n",
    "    'seed': SEED,\n",
    "    'verbose': -1,\n",
    "    'n_jobs': -1,\n",
    "}"
   ],
   "outputs": [],
   "execution_count": 14
  },
  {
   "cell_type": "markdown",
   "id": "informative-senator",
   "metadata": {
    "id": "informative-senator"
   },
   "source": [
    "## 2011년 11월 베이스라인 모델 예측\n",
    "- Validation 성능 측정"
   ]
  },
  {
   "cell_type": "code",
   "id": "different-litigation",
   "metadata": {
    "id": "different-litigation",
    "outputId": "df381dbf-17da-4348-f844-50bbeea9c858",
    "ExecuteTime": {
     "end_time": "2024-04-27T09:07:14.727161Z",
     "start_time": "2024-04-27T09:07:11.342548Z"
    }
   },
   "source": [
    "train, test, y, features = feature_engineering1(data, '2011-11')\n",
    "test_preds_2011_11, fi = make_lgb_prediction(train, y, test, features, model_params=model_params)\n",
    "print_score(label_2011_11, test_preds_2011_11)"
   ],
   "outputs": [
    {
     "name": "stdout",
     "output_type": "stream",
     "text": [
      "categorical feature: []\n",
      "x_tr.shape (5501, 24) , x_te.shape (5722, 24)\n",
      "(5501, 21) (5722, 21)\n",
      "Precision: 0.62562\n",
      "Recall: 0.21380\n",
      "F1 Score: 0.31870\n",
      "ROC AUC Score: 0.76171\n"
     ]
    }
   ],
   "execution_count": 15
  },
  {
   "cell_type": "markdown",
   "id": "literary-object",
   "metadata": {
    "id": "literary-object"
   },
   "source": [
    "## 2011년 11월 베이스라인 모델 예측 데이터 분포"
   ]
  },
  {
   "cell_type": "code",
   "id": "toxic-ending",
   "metadata": {
    "id": "toxic-ending",
    "outputId": "a97a560e-6cce-4d50-faa2-3a11bb1ee177",
    "ExecuteTime": {
     "end_time": "2024-04-27T09:07:58.927420Z",
     "start_time": "2024-04-27T09:07:58.746816Z"
    }
   },
   "source": [
    "sns.distplot(test_preds_2011_11)\n",
    "plt.show()"
   ],
   "outputs": [
    {
     "data": {
      "text/plain": [
       "<Figure size 640x480 with 1 Axes>"
      ],
      "image/png": "[encoded data removed]"
     },
     "metadata": {},
     "output_type": "display_data"
    }
   ],
   "execution_count": 16
  },
  {
   "cell_type": "markdown",
   "id": "dedicated-convention",
   "metadata": {
    "id": "dedicated-convention"
   },
   "source": [
    "## 2011년 12월 베이스라인 모델 예측\n",
    "- 테스트 데이터 제출"
   ]
  },
  {
   "cell_type": "code",
   "id": "significant-kingdom",
   "metadata": {
    "id": "significant-kingdom",
    "outputId": "51c72109-3f9b-473d-e855-e389f32617c0",
    "ExecuteTime": {
     "end_time": "2024-04-27T09:08:12.816439Z",
     "start_time": "2024-04-27T09:08:09.387730Z"
    }
   },
   "source": [
    "train, test, y, features = feature_engineering1(data, '2011-12')\n",
    "test_preds, fi = make_lgb_prediction(train, y, test, features, model_params=model_params)"
   ],
   "outputs": [
    {
     "name": "stdout",
     "output_type": "stream",
     "text": [
      "categorical feature: []\n",
      "x_tr.shape (5722, 24) , x_te.shape (5914, 24)\n",
      "(5722, 21) (5914, 21)\n"
     ]
    }
   ],
   "execution_count": 17
  },
  {
   "cell_type": "markdown",
   "id": "approximate-hacker",
   "metadata": {
    "id": "approximate-hacker"
   },
   "source": [
    "## 2011년 12월 베이스라인 모델 예측 데이터 분포"
   ]
  },
  {
   "cell_type": "code",
   "id": "expressed-comparison",
   "metadata": {
    "id": "expressed-comparison",
    "outputId": "4c47df20-0cc0-4db1-a8d0-8381a26ce55b",
    "ExecuteTime": {
     "end_time": "2024-04-27T09:08:17.702397Z",
     "start_time": "2024-04-27T09:08:17.523232Z"
    }
   },
   "source": [
    "sns.distplot(test_preds)\n",
    "plt.show()"
   ],
   "outputs": [
    {
     "data": {
      "text/plain": [
       "<Figure size 640x480 with 1 Axes>"
      ],
      "image/png": "[encoded data removed]"
     },
     "metadata": {},
     "output_type": "display_data"
    }
   ],
   "execution_count": 18
  },
  {
   "cell_type": "markdown",
   "id": "spiritual-antibody",
   "metadata": {
    "id": "spiritual-antibody"
   },
   "source": [
    "## 피처 중요도 플롯"
   ]
  },
  {
   "cell_type": "code",
   "id": "terminal-sherman",
   "metadata": {
    "id": "terminal-sherman",
    "outputId": "3172c5e0-3408-4959-a663-af799a490cce",
    "ExecuteTime": {
     "end_time": "2024-04-28T08:14:15.893975Z",
     "start_time": "2024-04-28T08:14:15.759037Z"
    }
   },
   "source": [
    "fi = plot_feature_importances(fi)"
   ],
   "outputs": [
    {
     "ename": "NameError",
     "evalue": "name 'plot_feature_importances' is not defined",
     "output_type": "error",
     "traceback": [
      "\u001B[0;31m---------------------------------------------------------------------------\u001B[0m",
      "\u001B[0;31mNameError\u001B[0m                                 Traceback (most recent call last)",
      "Cell \u001B[0;32mIn[1], line 1\u001B[0m\n\u001B[0;32m----> 1\u001B[0m fi \u001B[38;5;241m=\u001B[39m \u001B[43mplot_feature_importances\u001B[49m(fi)\n",
      "\u001B[0;31mNameError\u001B[0m: name 'plot_feature_importances' is not defined"
     ]
    }
   ],
   "execution_count": 1
  },
  {
   "cell_type": "markdown",
   "id": "wrong-catering",
   "metadata": {
    "id": "wrong-catering"
   },
   "source": [
    "# 제출 파일 생성"
   ]
  },
  {
   "cell_type": "code",
   "id": "quick-manchester",
   "metadata": {
    "id": "quick-manchester",
    "ExecuteTime": {
     "end_time": "2024-04-27T09:08:33.746299Z",
     "start_time": "2024-04-27T09:08:33.707320Z"
    }
   },
   "source": [
    "output_dir = './output'\n",
    "os.makedirs(output_dir, exist_ok=True)\n",
    "submission = pd.read_csv('./input/sample_submission.csv')\n",
    "submission['probability'] = test_preds\n",
    "submission.to_csv(os.path.join(output_dir, 'output.csv'), index=False)"
   ],
   "outputs": [],
   "execution_count": 19
  },
  {
   "cell_type": "markdown",
   "source": [
    "ALL RIGHTS RESERVED. (C)NAVER Connect Foundation."
   ],
   "metadata": {
    "id": "rXJC35YkYAwL"
   },
   "id": "rXJC35YkYAwL"
  }
 ],
 "metadata": {
  "hide_input": false,
  "kernelspec": {
   "display_name": "Python 3 (ipykernel)",
   "language": "python",
   "name": "python3"
  },
  "language_info": {
   "codemirror_mode": {
    "name": "ipython",
    "version": 3
   },
   "file_extension": ".py",
   "mimetype": "text/x-python",
   "name": "python",
   "nbconvert_exporter": "python",
   "pygments_lexer": "ipython3",
   "version": "3.8.1"
  },
  "toc": {
   "base_numbering": 1,
   "nav_menu": {},
   "number_sections": true,
   "sideBar": true,
   "skip_h1_title": false,
   "title_cell": "Table of Contents",
   "title_sidebar": "Contents",
   "toc_cell": false,
   "toc_position": {},
   "toc_section_display": true,
   "toc_window_display": false
  },
  "colab": {
   "provenance": [],
   "include_colab_link": true
  }
 },
 "nbformat": 4,
 "nbformat_minor": 5
}
