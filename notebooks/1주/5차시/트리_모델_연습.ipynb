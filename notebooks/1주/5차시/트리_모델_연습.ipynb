{
 "cells": [
  {
   "cell_type": "markdown",
   "metadata": {
    "id": "view-in-github",
    "colab_type": "text"
   },
   "source": [
    "<a href=\"https://colab.research.google.com/github/minsmis/NaverAI/blob/main/notebooks/1%EC%A3%BC/5%EC%B0%A8%EC%8B%9C/%ED%8A%B8%EB%A6%AC_%EB%AA%A8%EB%8D%B8_%EC%97%B0%EC%8A%B5.ipynb\" target=\"_parent\"><img src=\"https://colab.research.google.com/assets/colab-badge.svg\" alt=\"Open In Colab\"/></a>"
   ],
   "id": "bd3b7b962f3012d"
  },
  {
   "cell_type": "markdown",
   "id": "fifth-there",
   "metadata": {
    "id": "fifth-there"
   },
   "source": [
    "# [5차시] 트리 모델 연습\n",
    "\n",
    "* 세번째 베이스라인 모델은 LightGBM을 사용한 두번째 베이스라인 모델과 동일한 피처를 사용합니다.\n",
    "* Cross Validation Out Of Fold Prediction으로 모델의 Validation 성능을 측정하고, Test 데이터 예측 기능을 추가합니다."
   ]
  },
  {
   "cell_type": "markdown",
   "id": "proprietary-brisbane",
   "metadata": {
    "id": "proprietary-brisbane"
   },
   "source": [
    "## Function 정의\n",
    "\n",
    "- seed_everything() : seed 고정 함수\n",
    "- generate_label() : label 생성 함수\n",
    "- print_score() : 평가지표 출력 함수\n",
    "- feature_preprocessing() : 데이터 전처리 함수(label encoding, 결측치 처리)\n",
    "- feature_engineering1() : 피처 엔지니어링 함수\n",
    "- make_lgb_oof_prediction() : LightGBM cross validation out of fold train/predict 함수\n",
    "- plot_feature_importances() : LightGBM 피처 중요도 플롯 함수"
   ]
  },
  {
   "cell_type": "markdown",
   "id": "stainless-grave",
   "metadata": {
    "id": "stainless-grave"
   },
   "source": [
    "## Library Import"
   ]
  },
  {
   "cell_type": "code",
   "id": "registered-third",
   "metadata": {
    "id": "registered-third",
    "ExecuteTime": {
     "end_time": "2024-04-28T08:57:39.729086Z",
     "start_time": "2024-04-28T08:57:39.230650Z"
    }
   },
   "source": [
    "# Suppress warnings\n",
    "import warnings\n",
    "\n",
    "warnings.filterwarnings('ignore')\n",
    "\n",
    "import os, sys, gc, warnings, random\n",
    "from typing import List\n",
    "\n",
    "import datetime\n",
    "import dateutil.relativedelta\n",
    "\n",
    "# Data manipulation\n",
    "import pandas as pd\n",
    "import numpy as np\n",
    "\n",
    "# Visualization\n",
    "import matplotlib.pyplot as plt\n",
    "import seaborn as sns\n",
    "\n",
    "# Machine learning\n",
    "from sklearn.pipeline import Pipeline\n",
    "from sklearn.preprocessing import MinMaxScaler, LabelEncoder\n",
    "from sklearn.impute import SimpleImputer\n",
    "from sklearn.metrics import precision_score, recall_score, f1_score, roc_auc_score, precision_recall_curve, roc_curve\n",
    "from sklearn.model_selection import train_test_split, cross_val_score, KFold, StratifiedKFold, GroupKFold\n",
    "from sklearn.ensemble import RandomForestClassifier\n",
    "\n",
    "import lightgbm as lgb\n",
    "\n",
    "from tqdm.notebook import trange, tqdm\n",
    "\n",
    "from IPython.display import display\n",
    "\n",
    "%matplotlib inline\n",
    "\n",
    "pd.options.display.max_rows = 10000\n",
    "pd.options.display.max_columns = 1000\n",
    "pd.options.display.max_colwidth = 1000"
   ],
   "outputs": [],
   "execution_count": 1
  },
  {
   "cell_type": "markdown",
   "id": "aerial-brooks",
   "metadata": {
    "id": "aerial-brooks"
   },
   "source": [
    "## Fix Seed 함수 정의"
   ]
  },
  {
   "cell_type": "code",
   "id": "controlling-alpha",
   "metadata": {
    "id": "controlling-alpha",
    "ExecuteTime": {
     "end_time": "2024-04-28T08:57:55.653498Z",
     "start_time": "2024-04-28T08:57:55.647100Z"
    }
   },
   "source": [
    "'''\n",
    "    결과의 재현성을 위해 seed 값을 설정하는 함수\n",
    "'''\n",
    "\n",
    "\n",
    "def seed_everything(seed=0):\n",
    "    random.seed(seed)\n",
    "    os.environ['PYTHONHASHSEED'] = str(seed)\n",
    "    np.random.seed(seed)\n",
    "\n",
    "\n",
    "SEED = 42\n",
    "seed_everything(SEED)"
   ],
   "outputs": [],
   "execution_count": 2
  },
  {
   "cell_type": "markdown",
   "id": "surgical-arcade",
   "metadata": {
    "id": "surgical-arcade"
   },
   "source": [
    "## 레이블 생성 함수 정의\n",
    "\n",
    "- 레이블 생성 함수는 연월을 인자로 받아서 고객 아이디별로 총 구매액이 인자로 받는 구매액 임계값을 넘는지 여부를 바이너리 레이블로 생성하는 함수"
   ]
  },
  {
   "cell_type": "code",
   "id": "spatial-express",
   "metadata": {
    "id": "spatial-express",
    "ExecuteTime": {
     "end_time": "2024-04-28T08:57:57.217334Z",
     "start_time": "2024-04-28T08:57:57.212232Z"
    }
   },
   "source": [
    "TOTAL_THRES = 300\n",
    "\n",
    "'''\n",
    "    입력인자로 받는 year_month에 대해 고객 ID별로 총 구매액이\n",
    "    구매액 임계값을 넘는지 여부의 binary label을 생성하는 함수\n",
    "'''\n",
    "\n",
    "\n",
    "def generate_label(df, year_month, total_thres=TOTAL_THRES, print_log=False):\n",
    "    df = df.copy()\n",
    "\n",
    "    # year_month에 해당하는 label 데이터 생성\n",
    "    df['year_month'] = df['order_date'].dt.strftime('%Y-%m')\n",
    "    df.reset_index(drop=True, inplace=True)\n",
    "\n",
    "    # year_month 이전 월의 고객 ID 추출\n",
    "    cust = df[df['year_month'] < year_month]['customer_id'].unique()\n",
    "    # year_month에 해당하는 데이터 선택\n",
    "    df = df[df['year_month'] == year_month]\n",
    "\n",
    "    # label 데이터프레임 생성\n",
    "    label = pd.DataFrame({'customer_id': cust})\n",
    "    label['year_month'] = year_month\n",
    "\n",
    "    # year_month에 해당하는 고객 ID의 구매액의 합 계산\n",
    "    grped = df.groupby(['customer_id', 'year_month'], as_index=False)[['total']].sum()\n",
    "\n",
    "    # label 데이터프레임과 merge하고 구매액 임계값을 넘었는지 여부로 label 생성\n",
    "    label = label.merge(grped, on=['customer_id', 'year_month'], how='left')\n",
    "    label['total'].fillna(0.0, inplace=True)\n",
    "    label['label'] = (label['total'] > total_thres).astype(int)\n",
    "\n",
    "    # 고객 ID로 정렬\n",
    "    label = label.sort_values('customer_id').reset_index(drop=True)\n",
    "    if print_log: print(f'{year_month} - final label shape: {label.shape}')\n",
    "\n",
    "    return label"
   ],
   "outputs": [],
   "execution_count": 3
  },
  {
   "cell_type": "markdown",
   "id": "laden-teacher",
   "metadata": {
    "id": "laden-teacher"
   },
   "source": [
    "## 평가지표 출력 함수 정의"
   ]
  },
  {
   "cell_type": "code",
   "id": "optical-separate",
   "metadata": {
    "id": "optical-separate",
    "ExecuteTime": {
     "end_time": "2024-04-28T08:57:58.476142Z",
     "start_time": "2024-04-28T08:57:58.472446Z"
    }
   },
   "source": [
    "'''\n",
    "    평가지표를 출력하는 함수\n",
    "'''\n",
    "\n",
    "\n",
    "def print_score(label: List[float], pred: List[float], prob_thres: float = 0.5):\n",
    "    print('Precision: {:.5f}'.format(precision_score(label, pred > prob_thres)))\n",
    "    print('Recall: {:.5f}'.format(recall_score(label, pred > prob_thres)))\n",
    "    print('F1 Score: {:.5f}'.format(f1_score(label, pred > prob_thres)))\n",
    "    print('ROC AUC Score: {:.5f}'.format(roc_auc_score(label, pred)))"
   ],
   "outputs": [],
   "execution_count": 4
  },
  {
   "cell_type": "markdown",
   "id": "inside-surface",
   "metadata": {
    "id": "inside-surface"
   },
   "source": [
    "## 데이터 전처리 함수 정의\n",
    "- 범주형 변수 레이블 인코딩\n",
    "- 결측치 중위값으로 채움"
   ]
  },
  {
   "cell_type": "code",
   "id": "revised-paris",
   "metadata": {
    "id": "revised-paris",
    "ExecuteTime": {
     "end_time": "2024-04-28T08:57:59.947370Z",
     "start_time": "2024-04-28T08:57:59.942633Z"
    }
   },
   "source": [
    "'''\n",
    "    입력인자로 받는 train, test 데이터에 대해 범주형 피쳐는 레이블 인코딩을\n",
    "    진행하고 결측치에 대해서는 중위값으로 데이터 전처리를 하는 함수\n",
    "'''\n",
    "\n",
    "\n",
    "def feature_preprocessing(\n",
    "        train: pd.DataFrame,\n",
    "        test: pd.DataFrame,\n",
    "        features: list,\n",
    "        do_imputing=True\n",
    "):\n",
    "    x_tr = train.copy()\n",
    "    x_te = test.copy()\n",
    "\n",
    "    # 범주형 피처 이름을 저장할 변수\n",
    "    cate_cols = []\n",
    "\n",
    "    # 레이블 인코딩\n",
    "    for f in features:\n",
    "        if x_tr[f].dtype.name == 'object':  # 데이터 타입이 object(str)이면 레이블 인코딩\n",
    "            cate_cols.append(f)\n",
    "            le = LabelEncoder()\n",
    "            # train + test 데이터를 합쳐서 레이블 인코딩 함수에 fit\n",
    "            le.fit(list(x_tr[f].values) + list(x_te[f].values))\n",
    "\n",
    "            # train 데이터 레이블 인코딩 변환 수행\n",
    "            x_tr[f] = le.transform(list(x_tr[f].values))\n",
    "\n",
    "            # test 데이터 레이블 인코딩 변환 수행\n",
    "            x_te[f] = le.transform(list(x_te[f].values))\n",
    "\n",
    "    print('categorical feature:', cate_cols)\n",
    "\n",
    "    if do_imputing:\n",
    "        # 중위값으로 결측치 채우기\n",
    "        imputer = SimpleImputer(strategy='median')\n",
    "\n",
    "        x_tr[features] = imputer.fit_transform(x_tr[features])\n",
    "        x_te[features] = imputer.transform(x_te[features])\n",
    "\n",
    "    return x_tr, x_te"
   ],
   "outputs": [],
   "execution_count": 5
  },
  {
   "cell_type": "markdown",
   "id": "breathing-taylor",
   "metadata": {
    "id": "breathing-taylor"
   },
   "source": [
    "## 피처 엔지니어링 함수 정의\n",
    "- Pandas groupby aggregation 함수를 사용한 피처 엔지니어링"
   ]
  },
  {
   "cell_type": "code",
   "id": "suburban-plane",
   "metadata": {
    "id": "suburban-plane",
    "ExecuteTime": {
     "end_time": "2024-04-28T08:59:15.825966Z",
     "start_time": "2024-04-28T08:59:15.818537Z"
    }
   },
   "source": [
    "'''\n",
    "    입력인자로 받는 year_month와 변수 prev_ym 기준으로 train, test 데이터를 생성 하고\n",
    "    집계(aggregation) 함수를 사용하여 피처 엔지니어링을 하는 함수\n",
    "'''\n",
    "\n",
    "\n",
    "def feature_engineering1(df: pd.DataFrame, year_month: str):\n",
    "    df = df.copy()\n",
    "\n",
    "    # year_month 이전 월 계산\n",
    "    d = datetime.datetime.strptime(year_month, \"%Y-%m\")\n",
    "    prev_ym = d - dateutil.relativedelta.relativedelta(months=1)\n",
    "    prev_ym = prev_ym.strftime('%Y-%m')\n",
    "\n",
    "    # train, test 데이터 선택\n",
    "    train = df[df['order_date'] < prev_ym]\n",
    "    test = df[df['order_date'] < year_month]\n",
    "\n",
    "    # train, test 레이블 데이터 생성\n",
    "    train_label = generate_label(df, prev_ym)[['customer_id', 'year_month', 'label']]\n",
    "    test_label = generate_label(df, year_month)[['customer_id', 'year_month', 'label']]\n",
    "\n",
    "    # group by aggregation 함수 선언\n",
    "    agg_func = ['mean', 'max', 'min', 'sum', 'count', 'std', 'skew']\n",
    "    all_train_data = pd.DataFrame()\n",
    "\n",
    "    for i, tr_ym in enumerate(train_label['year_month'].unique()):\n",
    "        # group by aggretation 함수로 train 데이터 피처 생성\n",
    "        train_agg = train.loc[train['order_date'] < tr_ym, ['customer_id', 'price', 'quantity', 'total']].groupby(\n",
    "            ['customer_id']).agg(agg_func)\n",
    "\n",
    "        # 멀티 레벨 컬럼을 사용하기 쉽게 1 레벨 컬럼명으로 변경\n",
    "        new_cols = []\n",
    "        for col in train_agg.columns.levels[0]:\n",
    "            for stat in train_agg.columns.levels[1]:\n",
    "                new_cols.append(f'{col}-{stat}')\n",
    "\n",
    "        train_agg.columns = new_cols\n",
    "        train_agg.reset_index(inplace=True)\n",
    "\n",
    "        train_agg['year_month'] = tr_ym\n",
    "\n",
    "        all_train_data = all_train_data._append(train_agg)\n",
    "\n",
    "    all_train_data = train_label.merge(all_train_data, on=['customer_id', 'year_month'], how='left')\n",
    "    features = all_train_data.drop(columns=['customer_id', 'label', 'year_month']).columns\n",
    "\n",
    "    # group by aggretation 함수로 test 데이터 피처 생성\n",
    "    test_agg = test[['customer_id', 'price', 'quantity', 'total']].groupby(['customer_id']).agg(agg_func)\n",
    "    test_agg.columns = new_cols\n",
    "\n",
    "    test_data = test_label.merge(test_agg, on=['customer_id'], how='left')\n",
    "\n",
    "    # train, test 데이터 전처리\n",
    "    x_tr, x_te = feature_preprocessing(all_train_data, test_data, features)\n",
    "\n",
    "    print('x_tr.shape', x_tr.shape, ', x_te.shape', x_te.shape)\n",
    "\n",
    "    return x_tr, x_te, all_train_data['label'], features"
   ],
   "outputs": [],
   "execution_count": 17
  },
  {
   "cell_type": "markdown",
   "id": "promotional-assignment",
   "metadata": {
    "id": "promotional-assignment"
   },
   "source": [
    "## LightGBM cross validation out of fold train/predict 함수 정의"
   ]
  },
  {
   "cell_type": "code",
   "id": "labeled-girlfriend",
   "metadata": {
    "id": "labeled-girlfriend",
    "ExecuteTime": {
     "end_time": "2024-04-28T08:59:40.628364Z",
     "start_time": "2024-04-28T08:59:40.605670Z"
    }
   },
   "source": [
    "'''\n",
    "    학습 데이터(x_tr), 검증 데이터(x_val), 테스트 데이터(test)로 LightGBM 모델을\n",
    "    학습, 교차(cross) 검증 및 테스트하고 사용된 피처들의 중요도를 반환하는 함수\n",
    "'''\n",
    "\n",
    "\n",
    "def make_lgb_oof_prediction(train, y, test, features, categorical_features='auto', model_params=None, folds=10):\n",
    "    x_train = train[features]\n",
    "    x_test = test[features]\n",
    "\n",
    "    # 테스트 데이터 예측값을 저장할 변수\n",
    "    test_preds = np.zeros(x_test.shape[0])\n",
    "\n",
    "    # Out Of Fold Validation 예측 데이터를 저장할 변수\n",
    "    y_oof = np.zeros(x_train.shape[0])\n",
    "\n",
    "    # 폴드별 평균 Validation 스코어를 저장할 변수\n",
    "    score = 0\n",
    "\n",
    "    # 피처 중요도를 저장할 데이터 프레임 선언\n",
    "    fi = pd.DataFrame()\n",
    "    fi['feature'] = features\n",
    "\n",
    "    # Stratified K Fold 선언\n",
    "    skf = StratifiedKFold(n_splits=folds, shuffle=True, random_state=SEED)\n",
    "\n",
    "    for fold, (tr_idx, val_idx) in enumerate(skf.split(x_train, y)):\n",
    "        # train index, validation index로 train 데이터를 나눔\n",
    "        x_tr, x_val = x_train.loc[tr_idx, features], x_train.loc[val_idx, features]\n",
    "        y_tr, y_val = y[tr_idx], y[val_idx]\n",
    "\n",
    "        print(f'fold: {fold + 1}, x_tr.shape: {x_tr.shape}, x_val.shape: {x_val.shape}')\n",
    "\n",
    "        # LightGBM 데이터셋 선언\n",
    "        dtrain = lgb.Dataset(x_tr, label=y_tr)\n",
    "        dvalid = lgb.Dataset(x_val, label=y_val)\n",
    "\n",
    "        # LightGBM 모델 훈련\n",
    "        clf = lgb.train(\n",
    "            model_params,\n",
    "            dtrain,\n",
    "            valid_sets=[dtrain, dvalid],  # Validation 성능을 측정할 수 있도록 설정\n",
    "            categorical_feature=categorical_features,\n",
    "            # verbose_eval=200\n",
    "        )\n",
    "\n",
    "        # Validation 데이터 예측\n",
    "        val_preds = clf.predict(x_val)\n",
    "\n",
    "        # Validation index에 예측값 저장\n",
    "        y_oof[val_idx] = val_preds\n",
    "\n",
    "        # 폴드별 Validation 스코어 측정\n",
    "        print(f\"Fold {fold + 1} | AUC: {roc_auc_score(y_val, val_preds)}\")\n",
    "        print('-' * 80)\n",
    "\n",
    "        # score 변수에 폴드별 평균 Validation 스코어 저장\n",
    "        score += roc_auc_score(y_val, val_preds) / folds\n",
    "\n",
    "        # 테스트 데이터 예측하고 평균해서 저장\n",
    "        test_preds += clf.predict(x_test) / folds\n",
    "\n",
    "        # 폴드별 피처 중요도 저장\n",
    "        fi[f'fold_{fold + 1}'] = clf.feature_importance()\n",
    "\n",
    "        del x_tr, x_val, y_tr, y_val\n",
    "        gc.collect()\n",
    "\n",
    "    print(f\"\\nMean AUC = {score}\")  # 폴드별 Validation 스코어 출력\n",
    "    print(f\"OOF AUC = {roc_auc_score(y, y_oof)}\")  # Out Of Fold Validation 스코어 출력\n",
    "\n",
    "    # 폴드별 피처 중요도 평균값 계산해서 저장\n",
    "    fi_cols = [col for col in fi.columns if 'fold_' in col]\n",
    "    fi['importance'] = fi[fi_cols].mean(axis=1)\n",
    "\n",
    "    return y_oof, test_preds, fi"
   ],
   "outputs": [],
   "execution_count": 19
  },
  {
   "cell_type": "markdown",
   "id": "artistic-opportunity",
   "metadata": {
    "id": "artistic-opportunity"
   },
   "source": [
    "## LightGBM 피처 중요도 플롯 함수 정의"
   ]
  },
  {
   "cell_type": "code",
   "id": "julian-tumor",
   "metadata": {
    "id": "julian-tumor",
    "ExecuteTime": {
     "end_time": "2024-04-28T08:58:03.209360Z",
     "start_time": "2024-04-28T08:58:03.200594Z"
    }
   },
   "source": [
    "'''\n",
    "    피처 중요도 정규화(importance_normalized) 및 누적 중요도(cumulative_importance)를 계산하고\n",
    "    중요도 정규화 순으로 n개의 바플롯을 그리는 함수\n",
    "'''\n",
    "\n",
    "\n",
    "def plot_feature_importances(df, n=20, color='blue', figsize=(12, 8)):\n",
    "    # 피처 중요도 순으로 내림차순 정렬\n",
    "    df = df.sort_values('importance', ascending=False).reset_index(drop=True)\n",
    "\n",
    "    # 피처 중요도 정규화 및 누적 중요도 계산\n",
    "    df['importance_normalized'] = df['importance'] / df['importance'].sum()\n",
    "    df['cumulative_importance'] = np.cumsum(df['importance_normalized'])\n",
    "\n",
    "    plt.rcParams['font.size'] = 12\n",
    "    plt.style.use('fivethirtyeight')\n",
    "    # 피처 중요도 순으로 n개까지 바플롯으로 그리기\n",
    "    df.loc[:n, :].plot.barh(y='importance_normalized',\n",
    "                            x='feature', color=color,\n",
    "                            edgecolor='k', figsize=figsize,\n",
    "                            legend=False)\n",
    "\n",
    "    plt.xlabel('Normalized Importance', size=18);\n",
    "    plt.ylabel('');\n",
    "    plt.title(f'Top {n} Most Important Features', size=18)\n",
    "    plt.gca().invert_yaxis()\n",
    "\n",
    "    return df"
   ],
   "outputs": [],
   "execution_count": 8
  },
  {
   "cell_type": "markdown",
   "id": "finnish-socket",
   "metadata": {
    "id": "finnish-socket"
   },
   "source": [
    "## Train 데이터 읽기\n",
    "- 9개의 feature를 가진 780502개의 train data"
   ]
  },
  {
   "cell_type": "code",
   "id": "bearing-cardiff",
   "metadata": {
    "id": "bearing-cardiff",
    "outputId": "852c266d-db23-4d7b-b5a6-e711cd9a784d",
    "ExecuteTime": {
     "end_time": "2024-04-28T08:58:05.204126Z",
     "start_time": "2024-04-28T08:58:04.611880Z"
    }
   },
   "source": [
    "data = pd.read_csv(\"./input/train.csv\", parse_dates=[\"order_date\"])\n",
    "print(data.shape)  # data shape 확인\n",
    "data.head()"
   ],
   "outputs": [
    {
     "name": "stdout",
     "output_type": "stream",
     "text": [
      "(780502, 9)\n"
     ]
    },
    {
     "data": {
      "text/plain": [
       "  order_id product_id                          description  quantity  \\\n",
       "0   489434      85048  15CM CHRISTMAS GLASS BALL 20 LIGHTS        12   \n",
       "1   489434     79323P                   PINK CHERRY LIGHTS        12   \n",
       "2   489434     79323W                  WHITE CHERRY LIGHTS        12   \n",
       "3   489434      22041         RECORD FRAME 7\" SINGLE SIZE         48   \n",
       "4   489434      21232       STRAWBERRY CERAMIC TRINKET BOX        24   \n",
       "\n",
       "           order_date    price  customer_id         country   total  \n",
       "0 2009-12-01 07:45:00  11.4675        13085  United Kingdom  137.61  \n",
       "1 2009-12-01 07:45:00  11.1375        13085  United Kingdom  133.65  \n",
       "2 2009-12-01 07:45:00  11.1375        13085  United Kingdom  133.65  \n",
       "3 2009-12-01 07:45:00   3.4650        13085  United Kingdom  166.32  \n",
       "4 2009-12-01 07:45:00   2.0625        13085  United Kingdom   49.50  "
      ],
      "text/html": [
       "<div>\n",
       "<style scoped>\n",
       "    .dataframe tbody tr th:only-of-type {\n",
       "        vertical-align: middle;\n",
       "    }\n",
       "\n",
       "    .dataframe tbody tr th {\n",
       "        vertical-align: top;\n",
       "    }\n",
       "\n",
       "    .dataframe thead th {\n",
       "        text-align: right;\n",
       "    }\n",
       "</style>\n",
       "<table border=\"1\" class=\"dataframe\">\n",
       "  <thead>\n",
       "    <tr style=\"text-align: right;\">\n",
       "      <th></th>\n",
       "      <th>order_id</th>\n",
       "      <th>product_id</th>\n",
       "      <th>description</th>\n",
       "      <th>quantity</th>\n",
       "      <th>order_date</th>\n",
       "      <th>price</th>\n",
       "      <th>customer_id</th>\n",
       "      <th>country</th>\n",
       "      <th>total</th>\n",
       "    </tr>\n",
       "  </thead>\n",
       "  <tbody>\n",
       "    <tr>\n",
       "      <th>0</th>\n",
       "      <td>489434</td>\n",
       "      <td>85048</td>\n",
       "      <td>15CM CHRISTMAS GLASS BALL 20 LIGHTS</td>\n",
       "      <td>12</td>\n",
       "      <td>2009-12-01 07:45:00</td>\n",
       "      <td>11.4675</td>\n",
       "      <td>13085</td>\n",
       "      <td>United Kingdom</td>\n",
       "      <td>137.61</td>\n",
       "    </tr>\n",
       "    <tr>\n",
       "      <th>1</th>\n",
       "      <td>489434</td>\n",
       "      <td>79323P</td>\n",
       "      <td>PINK CHERRY LIGHTS</td>\n",
       "      <td>12</td>\n",
       "      <td>2009-12-01 07:45:00</td>\n",
       "      <td>11.1375</td>\n",
       "      <td>13085</td>\n",
       "      <td>United Kingdom</td>\n",
       "      <td>133.65</td>\n",
       "    </tr>\n",
       "    <tr>\n",
       "      <th>2</th>\n",
       "      <td>489434</td>\n",
       "      <td>79323W</td>\n",
       "      <td>WHITE CHERRY LIGHTS</td>\n",
       "      <td>12</td>\n",
       "      <td>2009-12-01 07:45:00</td>\n",
       "      <td>11.1375</td>\n",
       "      <td>13085</td>\n",
       "      <td>United Kingdom</td>\n",
       "      <td>133.65</td>\n",
       "    </tr>\n",
       "    <tr>\n",
       "      <th>3</th>\n",
       "      <td>489434</td>\n",
       "      <td>22041</td>\n",
       "      <td>RECORD FRAME 7\" SINGLE SIZE</td>\n",
       "      <td>48</td>\n",
       "      <td>2009-12-01 07:45:00</td>\n",
       "      <td>3.4650</td>\n",
       "      <td>13085</td>\n",
       "      <td>United Kingdom</td>\n",
       "      <td>166.32</td>\n",
       "    </tr>\n",
       "    <tr>\n",
       "      <th>4</th>\n",
       "      <td>489434</td>\n",
       "      <td>21232</td>\n",
       "      <td>STRAWBERRY CERAMIC TRINKET BOX</td>\n",
       "      <td>24</td>\n",
       "      <td>2009-12-01 07:45:00</td>\n",
       "      <td>2.0625</td>\n",
       "      <td>13085</td>\n",
       "      <td>United Kingdom</td>\n",
       "      <td>49.50</td>\n",
       "    </tr>\n",
       "  </tbody>\n",
       "</table>\n",
       "</div>"
      ]
     },
     "execution_count": 9,
     "metadata": {},
     "output_type": "execute_result"
    }
   ],
   "execution_count": 9
  },
  {
   "cell_type": "markdown",
   "id": "official-semester",
   "metadata": {
    "id": "official-semester"
   },
   "source": [
    "## Pandas info() 함수로 데이터 타입 및 null 체크"
   ]
  },
  {
   "cell_type": "code",
   "id": "basic-repeat",
   "metadata": {
    "id": "basic-repeat",
    "outputId": "7a312c07-3eb9-4e73-902f-a7a62aee88bf",
    "ExecuteTime": {
     "end_time": "2024-04-28T08:58:06.985478Z",
     "start_time": "2024-04-28T08:58:06.918119Z"
    }
   },
   "source": [
    "data.info()"
   ],
   "outputs": [
    {
     "name": "stdout",
     "output_type": "stream",
     "text": [
      "<class 'pandas.core.frame.DataFrame'>\n",
      "RangeIndex: 780502 entries, 0 to 780501\n",
      "Data columns (total 9 columns):\n",
      " #   Column       Non-Null Count   Dtype         \n",
      "---  ------       --------------   -----         \n",
      " 0   order_id     780502 non-null  object        \n",
      " 1   product_id   780502 non-null  object        \n",
      " 2   description  780502 non-null  object        \n",
      " 3   quantity     780502 non-null  int64         \n",
      " 4   order_date   780502 non-null  datetime64[ns]\n",
      " 5   price        780502 non-null  float64       \n",
      " 6   customer_id  780502 non-null  int64         \n",
      " 7   country      780502 non-null  object        \n",
      " 8   total        780502 non-null  float64       \n",
      "dtypes: datetime64[ns](1), float64(2), int64(2), object(4)\n",
      "memory usage: 53.6+ MB\n"
     ]
    }
   ],
   "execution_count": 10
  },
  {
   "cell_type": "markdown",
   "id": "comparable-consciousness",
   "metadata": {
    "id": "comparable-consciousness"
   },
   "source": [
    "## Pandas isna(), sum() 함수로 null 데이터 개수 체크"
   ]
  },
  {
   "cell_type": "code",
   "id": "disturbed-pharmaceutical",
   "metadata": {
    "id": "disturbed-pharmaceutical",
    "outputId": "c963112a-c4b6-47c2-e10b-59d3eeb401dc",
    "ExecuteTime": {
     "end_time": "2024-04-28T08:58:07.901238Z",
     "start_time": "2024-04-28T08:58:07.819724Z"
    }
   },
   "source": [
    "data.isna().sum()"
   ],
   "outputs": [
    {
     "data": {
      "text/plain": [
       "order_id       0\n",
       "product_id     0\n",
       "description    0\n",
       "quantity       0\n",
       "order_date     0\n",
       "price          0\n",
       "customer_id    0\n",
       "country        0\n",
       "total          0\n",
       "dtype: int64"
      ]
     },
     "execution_count": 11,
     "metadata": {},
     "output_type": "execute_result"
    }
   ],
   "execution_count": 11
  },
  {
   "cell_type": "markdown",
   "id": "dimensional-nursery",
   "metadata": {
    "id": "dimensional-nursery"
   },
   "source": [
    "## Pandas describe() 함수에 include='all' 인자 설정으로 수치형, 범주형 데이터 기본 통계량 확인"
   ]
  },
  {
   "cell_type": "code",
   "id": "circular-colleague",
   "metadata": {
    "id": "circular-colleague",
    "outputId": "38e4ed0d-9ce1-4266-ba21-e2c3249b880e",
    "ExecuteTime": {
     "end_time": "2024-04-28T08:58:08.955277Z",
     "start_time": "2024-04-28T08:58:08.731938Z"
    }
   },
   "source": [
    "data.describe(include='all')"
   ],
   "outputs": [
    {
     "data": {
      "text/plain": [
       "       order_id product_id                         description       quantity  \\\n",
       "count    780502     780502                              780502  780502.000000   \n",
       "unique    43955       4645                                5297            NaN   \n",
       "top      576339     85123A  WHITE HANGING HEART T-LIGHT HOLDER            NaN   \n",
       "freq        542       5096                                5096            NaN   \n",
       "mean        NaN        NaN                                 NaN      12.623307   \n",
       "min         NaN        NaN                                 NaN  -74215.000000   \n",
       "25%         NaN        NaN                                 NaN       2.000000   \n",
       "50%         NaN        NaN                                 NaN       5.000000   \n",
       "75%         NaN        NaN                                 NaN      12.000000   \n",
       "max         NaN        NaN                                 NaN   74215.000000   \n",
       "std         NaN        NaN                                 NaN     143.906302   \n",
       "\n",
       "                           order_date          price    customer_id  \\\n",
       "count                          780502  780502.000000  780502.000000   \n",
       "unique                            NaN            NaN            NaN   \n",
       "top                               NaN            NaN            NaN   \n",
       "freq                              NaN            NaN            NaN   \n",
       "mean    2010-12-26 01:08:30.093324288       6.140931   15313.393466   \n",
       "min               2009-12-01 07:45:00       0.000000   12346.000000   \n",
       "25%               2010-06-29 11:10:00       2.062500   13963.000000   \n",
       "50%               2010-11-28 13:40:00       3.217500   15239.000000   \n",
       "75%               2011-07-18 11:55:00       6.187500   16788.000000   \n",
       "max               2011-11-30 17:42:00   64300.500000   18287.000000   \n",
       "std                               NaN     119.042266    1695.765797   \n",
       "\n",
       "               country          total  \n",
       "count           780502  780502.000000  \n",
       "unique              41            NaN  \n",
       "top     United Kingdom            NaN  \n",
       "freq            700317            NaN  \n",
       "mean               NaN      33.715373  \n",
       "min                NaN -127352.940000  \n",
       "25%                NaN       7.260000  \n",
       "50%                NaN      19.470000  \n",
       "75%                NaN      32.175000  \n",
       "max                NaN  127352.940000  \n",
       "std                NaN     274.207403  "
      ],
      "text/html": [
       "<div>\n",
       "<style scoped>\n",
       "    .dataframe tbody tr th:only-of-type {\n",
       "        vertical-align: middle;\n",
       "    }\n",
       "\n",
       "    .dataframe tbody tr th {\n",
       "        vertical-align: top;\n",
       "    }\n",
       "\n",
       "    .dataframe thead th {\n",
       "        text-align: right;\n",
       "    }\n",
       "</style>\n",
       "<table border=\"1\" class=\"dataframe\">\n",
       "  <thead>\n",
       "    <tr style=\"text-align: right;\">\n",
       "      <th></th>\n",
       "      <th>order_id</th>\n",
       "      <th>product_id</th>\n",
       "      <th>description</th>\n",
       "      <th>quantity</th>\n",
       "      <th>order_date</th>\n",
       "      <th>price</th>\n",
       "      <th>customer_id</th>\n",
       "      <th>country</th>\n",
       "      <th>total</th>\n",
       "    </tr>\n",
       "  </thead>\n",
       "  <tbody>\n",
       "    <tr>\n",
       "      <th>count</th>\n",
       "      <td>780502</td>\n",
       "      <td>780502</td>\n",
       "      <td>780502</td>\n",
       "      <td>780502.000000</td>\n",
       "      <td>780502</td>\n",
       "      <td>780502.000000</td>\n",
       "      <td>780502.000000</td>\n",
       "      <td>780502</td>\n",
       "      <td>780502.000000</td>\n",
       "    </tr>\n",
       "    <tr>\n",
       "      <th>unique</th>\n",
       "      <td>43955</td>\n",
       "      <td>4645</td>\n",
       "      <td>5297</td>\n",
       "      <td>NaN</td>\n",
       "      <td>NaN</td>\n",
       "      <td>NaN</td>\n",
       "      <td>NaN</td>\n",
       "      <td>41</td>\n",
       "      <td>NaN</td>\n",
       "    </tr>\n",
       "    <tr>\n",
       "      <th>top</th>\n",
       "      <td>576339</td>\n",
       "      <td>85123A</td>\n",
       "      <td>WHITE HANGING HEART T-LIGHT HOLDER</td>\n",
       "      <td>NaN</td>\n",
       "      <td>NaN</td>\n",
       "      <td>NaN</td>\n",
       "      <td>NaN</td>\n",
       "      <td>United Kingdom</td>\n",
       "      <td>NaN</td>\n",
       "    </tr>\n",
       "    <tr>\n",
       "      <th>freq</th>\n",
       "      <td>542</td>\n",
       "      <td>5096</td>\n",
       "      <td>5096</td>\n",
       "      <td>NaN</td>\n",
       "      <td>NaN</td>\n",
       "      <td>NaN</td>\n",
       "      <td>NaN</td>\n",
       "      <td>700317</td>\n",
       "      <td>NaN</td>\n",
       "    </tr>\n",
       "    <tr>\n",
       "      <th>mean</th>\n",
       "      <td>NaN</td>\n",
       "      <td>NaN</td>\n",
       "      <td>NaN</td>\n",
       "      <td>12.623307</td>\n",
       "      <td>2010-12-26 01:08:30.093324288</td>\n",
       "      <td>6.140931</td>\n",
       "      <td>15313.393466</td>\n",
       "      <td>NaN</td>\n",
       "      <td>33.715373</td>\n",
       "    </tr>\n",
       "    <tr>\n",
       "      <th>min</th>\n",
       "      <td>NaN</td>\n",
       "      <td>NaN</td>\n",
       "      <td>NaN</td>\n",
       "      <td>-74215.000000</td>\n",
       "      <td>2009-12-01 07:45:00</td>\n",
       "      <td>0.000000</td>\n",
       "      <td>12346.000000</td>\n",
       "      <td>NaN</td>\n",
       "      <td>-127352.940000</td>\n",
       "    </tr>\n",
       "    <tr>\n",
       "      <th>25%</th>\n",
       "      <td>NaN</td>\n",
       "      <td>NaN</td>\n",
       "      <td>NaN</td>\n",
       "      <td>2.000000</td>\n",
       "      <td>2010-06-29 11:10:00</td>\n",
       "      <td>2.062500</td>\n",
       "      <td>13963.000000</td>\n",
       "      <td>NaN</td>\n",
       "      <td>7.260000</td>\n",
       "    </tr>\n",
       "    <tr>\n",
       "      <th>50%</th>\n",
       "      <td>NaN</td>\n",
       "      <td>NaN</td>\n",
       "      <td>NaN</td>\n",
       "      <td>5.000000</td>\n",
       "      <td>2010-11-28 13:40:00</td>\n",
       "      <td>3.217500</td>\n",
       "      <td>15239.000000</td>\n",
       "      <td>NaN</td>\n",
       "      <td>19.470000</td>\n",
       "    </tr>\n",
       "    <tr>\n",
       "      <th>75%</th>\n",
       "      <td>NaN</td>\n",
       "      <td>NaN</td>\n",
       "      <td>NaN</td>\n",
       "      <td>12.000000</td>\n",
       "      <td>2011-07-18 11:55:00</td>\n",
       "      <td>6.187500</td>\n",
       "      <td>16788.000000</td>\n",
       "      <td>NaN</td>\n",
       "      <td>32.175000</td>\n",
       "    </tr>\n",
       "    <tr>\n",
       "      <th>max</th>\n",
       "      <td>NaN</td>\n",
       "      <td>NaN</td>\n",
       "      <td>NaN</td>\n",
       "      <td>74215.000000</td>\n",
       "      <td>2011-11-30 17:42:00</td>\n",
       "      <td>64300.500000</td>\n",
       "      <td>18287.000000</td>\n",
       "      <td>NaN</td>\n",
       "      <td>127352.940000</td>\n",
       "    </tr>\n",
       "    <tr>\n",
       "      <th>std</th>\n",
       "      <td>NaN</td>\n",
       "      <td>NaN</td>\n",
       "      <td>NaN</td>\n",
       "      <td>143.906302</td>\n",
       "      <td>NaN</td>\n",
       "      <td>119.042266</td>\n",
       "      <td>1695.765797</td>\n",
       "      <td>NaN</td>\n",
       "      <td>274.207403</td>\n",
       "    </tr>\n",
       "  </tbody>\n",
       "</table>\n",
       "</div>"
      ]
     },
     "execution_count": 12,
     "metadata": {},
     "output_type": "execute_result"
    }
   ],
   "execution_count": 12
  },
  {
   "cell_type": "markdown",
   "id": "mighty-aging",
   "metadata": {
    "id": "mighty-aging"
   },
   "source": [
    "## 2011년 11월 Label 데이터 생성"
   ]
  },
  {
   "cell_type": "code",
   "id": "failing-semester",
   "metadata": {
    "id": "failing-semester",
    "ExecuteTime": {
     "end_time": "2024-04-28T08:58:11.182032Z",
     "start_time": "2024-04-28T08:58:09.775597Z"
    }
   },
   "source": [
    "label_2011_11 = generate_label(data, '2011-11')['label']"
   ],
   "outputs": [],
   "execution_count": 13
  },
  {
   "cell_type": "markdown",
   "id": "capital-strength",
   "metadata": {
    "id": "capital-strength"
   },
   "source": [
    "## Label 데이터 분포 플롯"
   ]
  },
  {
   "cell_type": "code",
   "id": "transsexual-swaziland",
   "metadata": {
    "id": "transsexual-swaziland",
    "outputId": "39ed9aac-18bf-4d9e-8cb9-6aea106eac88",
    "ExecuteTime": {
     "end_time": "2024-04-28T08:58:12.482811Z",
     "start_time": "2024-04-28T08:58:12.383477Z"
    }
   },
   "source": [
    "sns.countplot(x=label_2011_11)\n",
    "label_2011_11.value_counts()"
   ],
   "outputs": [
    {
     "data": {
      "text/plain": [
       "label\n",
       "0    4534\n",
       "1    1188\n",
       "Name: count, dtype: int64"
      ]
     },
     "execution_count": 14,
     "metadata": {},
     "output_type": "execute_result"
    },
    {
     "data": {
      "text/plain": [
       "<Figure size 640x480 with 1 Axes>"
      ],
      "image/png": "[encoded data removed]"
     },
     "metadata": {},
     "output_type": "display_data"
    }
   ],
   "execution_count": 14
  },
  {
   "cell_type": "markdown",
   "id": "refined-cuisine",
   "metadata": {
    "id": "refined-cuisine"
   },
   "source": [
    "## LightGBM Hyperparameter 선언\n",
    "- early stopping 기능을 사용하기 위해 n_estimators, early_stopping_rounds 설정"
   ]
  },
  {
   "cell_type": "code",
   "id": "medieval-multiple",
   "metadata": {
    "id": "medieval-multiple",
    "ExecuteTime": {
     "end_time": "2024-04-28T08:58:14.719392Z",
     "start_time": "2024-04-28T08:58:14.715834Z"
    }
   },
   "source": [
    "model_params = {\n",
    "    'objective': 'binary',  # 이진 분류\n",
    "    'boosting_type': 'gbdt',\n",
    "    'metric': 'auc',  # 평가 지표 설정\n",
    "    'feature_fraction': 0.8,  # 피처 샘플링 비율\n",
    "    'bagging_fraction': 0.8,  # 데이터 샘플링 비율\n",
    "    'bagging_freq': 1,\n",
    "    'n_estimators': 10000,  # 트리 개수\n",
    "    'early_stopping_rounds': 100,\n",
    "    'seed': SEED,\n",
    "    'verbose': -1,\n",
    "    'n_jobs': -1,\n",
    "}"
   ],
   "outputs": [],
   "execution_count": 15
  },
  {
   "cell_type": "markdown",
   "id": "sacred-switzerland",
   "metadata": {
    "id": "sacred-switzerland"
   },
   "source": [
    "## 2011년 11월 베이스라인 모델 예측\n",
    "- Validation 성능 측정"
   ]
  },
  {
   "cell_type": "code",
   "id": "conscious-preliminary",
   "metadata": {
    "id": "conscious-preliminary",
    "outputId": "99597c80-672b-4721-f935-cf0e0d06ef45",
    "ExecuteTime": {
     "end_time": "2024-04-28T08:59:51.732907Z",
     "start_time": "2024-04-28T08:59:44.335681Z"
    }
   },
   "source": [
    "train, test, y, features = feature_engineering1(data, '2011-11')\n",
    "y_oof, test_preds_2011_11, fi = make_lgb_oof_prediction(train, y, test, features, model_params=model_params)\n",
    "print_score(label_2011_11, test_preds_2011_11)"
   ],
   "outputs": [
    {
     "name": "stdout",
     "output_type": "stream",
     "text": [
      "categorical feature: []\n",
      "x_tr.shape (5501, 24) , x_te.shape (5722, 24)\n",
      "fold: 1, x_tr.shape: (4950, 21), x_val.shape: (551, 21)\n",
      "Fold 1 | AUC: 0.7462142197599261\n",
      "--------------------------------------------------------------------------------\n",
      "fold: 2, x_tr.shape: (4951, 21), x_val.shape: (550, 21)\n",
      "Fold 2 | AUC: 0.8233249346771183\n",
      "--------------------------------------------------------------------------------\n",
      "fold: 3, x_tr.shape: (4951, 21), x_val.shape: (550, 21)\n",
      "Fold 3 | AUC: 0.7518313736468831\n",
      "--------------------------------------------------------------------------------\n",
      "fold: 4, x_tr.shape: (4951, 21), x_val.shape: (550, 21)\n",
      "Fold 4 | AUC: 0.7920282754759238\n",
      "--------------------------------------------------------------------------------\n",
      "fold: 5, x_tr.shape: (4951, 21), x_val.shape: (550, 21)\n",
      "Fold 5 | AUC: 0.7729329973870848\n",
      "--------------------------------------------------------------------------------\n",
      "fold: 6, x_tr.shape: (4951, 21), x_val.shape: (550, 21)\n",
      "Fold 6 | AUC: 0.7789287047405749\n",
      "--------------------------------------------------------------------------------\n",
      "fold: 7, x_tr.shape: (4951, 21), x_val.shape: (550, 21)\n",
      "Fold 7 | AUC: 0.7570805337812616\n",
      "--------------------------------------------------------------------------------\n",
      "fold: 8, x_tr.shape: (4951, 21), x_val.shape: (550, 21)\n",
      "Fold 8 | AUC: 0.7929497946995147\n",
      "--------------------------------------------------------------------------------\n",
      "fold: 9, x_tr.shape: (4951, 21), x_val.shape: (550, 21)\n",
      "Fold 9 | AUC: 0.7720763447079237\n",
      "--------------------------------------------------------------------------------\n",
      "fold: 10, x_tr.shape: (4951, 21), x_val.shape: (550, 21)\n",
      "Fold 10 | AUC: 0.6964025448235975\n",
      "--------------------------------------------------------------------------------\n",
      "\n",
      "Mean AUC = 0.7683769723699808\n",
      "OOF AUC = 0.7470631851424109\n",
      "Precision: 0.87097\n",
      "Recall: 0.06818\n",
      "F1 Score: 0.12646\n",
      "ROC AUC Score: 0.77703\n"
     ]
    }
   ],
   "execution_count": 20
  },
  {
   "cell_type": "markdown",
   "id": "played-advertising",
   "metadata": {
    "id": "played-advertising"
   },
   "source": [
    "## 2011년 11월 베이스라인 모델 예측 데이터 분포"
   ]
  },
  {
   "cell_type": "code",
   "id": "systematic-sauce",
   "metadata": {
    "id": "systematic-sauce",
    "outputId": "f69a3447-5ef8-4649-bf91-40ef2ad1a233",
    "ExecuteTime": {
     "end_time": "2024-04-28T08:59:54.908185Z",
     "start_time": "2024-04-28T08:59:54.647763Z"
    }
   },
   "source": [
    "sns.distplot(test_preds_2011_11)\n",
    "plt.show()"
   ],
   "outputs": [
    {
     "data": {
      "text/plain": [
       "<Figure size 640x480 with 1 Axes>"
      ],
      "image/png": "[encoded data removed]"
     },
     "metadata": {},
     "output_type": "display_data"
    }
   ],
   "execution_count": 21
  },
  {
   "cell_type": "markdown",
   "id": "unauthorized-might",
   "metadata": {
    "id": "unauthorized-might"
   },
   "source": [
    "## 2011년 12월 베이스라인 모델 예측\n",
    "- 테스트 데이터 제출"
   ]
  },
  {
   "cell_type": "code",
   "id": "undefined-villa",
   "metadata": {
    "id": "undefined-villa",
    "outputId": "833e2d6e-7d4f-4976-858c-094894397a37",
    "ExecuteTime": {
     "end_time": "2024-04-28T09:00:05.420376Z",
     "start_time": "2024-04-28T08:59:58.168680Z"
    }
   },
   "source": [
    "train, test, y, features = feature_engineering1(data, '2011-12')\n",
    "y_oof, test_preds, fi = make_lgb_oof_prediction(train, y, test, features, model_params=model_params)"
   ],
   "outputs": [
    {
     "name": "stdout",
     "output_type": "stream",
     "text": [
      "categorical feature: []\n",
      "x_tr.shape (5722, 24) , x_te.shape (5914, 24)\n",
      "fold: 1, x_tr.shape: (5149, 21), x_val.shape: (573, 21)\n",
      "Fold 1 | AUC: 0.7661033576426165\n",
      "--------------------------------------------------------------------------------\n",
      "fold: 2, x_tr.shape: (5149, 21), x_val.shape: (573, 21)\n",
      "Fold 2 | AUC: 0.7972365157516752\n",
      "--------------------------------------------------------------------------------\n",
      "fold: 3, x_tr.shape: (5150, 21), x_val.shape: (572, 21)\n",
      "Fold 3 | AUC: 0.7878742626745314\n",
      "--------------------------------------------------------------------------------\n",
      "fold: 4, x_tr.shape: (5150, 21), x_val.shape: (572, 21)\n",
      "Fold 4 | AUC: 0.7440733965504367\n",
      "--------------------------------------------------------------------------------\n",
      "fold: 5, x_tr.shape: (5150, 21), x_val.shape: (572, 21)\n",
      "Fold 5 | AUC: 0.7751497950173447\n",
      "--------------------------------------------------------------------------------\n",
      "fold: 6, x_tr.shape: (5150, 21), x_val.shape: (572, 21)\n",
      "Fold 6 | AUC: 0.7878754150666889\n",
      "--------------------------------------------------------------------------------\n",
      "fold: 7, x_tr.shape: (5150, 21), x_val.shape: (572, 21)\n",
      "Fold 7 | AUC: 0.7913443523104605\n",
      "--------------------------------------------------------------------------------\n",
      "fold: 8, x_tr.shape: (5150, 21), x_val.shape: (572, 21)\n",
      "Fold 8 | AUC: 0.7718292615059269\n",
      "--------------------------------------------------------------------------------\n",
      "fold: 9, x_tr.shape: (5150, 21), x_val.shape: (572, 21)\n",
      "Fold 9 | AUC: 0.7848795147197952\n",
      "--------------------------------------------------------------------------------\n",
      "fold: 10, x_tr.shape: (5150, 21), x_val.shape: (572, 21)\n",
      "Fold 10 | AUC: 0.7534550243938636\n",
      "--------------------------------------------------------------------------------\n",
      "\n",
      "Mean AUC = 0.7759820895633339\n",
      "OOF AUC = 0.7680429682800657\n"
     ]
    }
   ],
   "execution_count": 22
  },
  {
   "cell_type": "markdown",
   "id": "indirect-driver",
   "metadata": {
    "id": "indirect-driver"
   },
   "source": [
    "## 2011년 12월 베이스라인 모델 예측 데이터 분포"
   ]
  },
  {
   "cell_type": "code",
   "id": "seventh-crime",
   "metadata": {
    "id": "seventh-crime",
    "outputId": "1a550401-1305-4c5e-c5e7-932bb21056e6",
    "ExecuteTime": {
     "end_time": "2024-04-28T09:00:09.681584Z",
     "start_time": "2024-04-28T09:00:09.540114Z"
    }
   },
   "source": [
    "sns.distplot(test_preds)\n",
    "plt.show()"
   ],
   "outputs": [
    {
     "data": {
      "text/plain": [
       "<Figure size 640x480 with 1 Axes>"
      ],
      "image/png": "[encoded data removed]"
     },
     "metadata": {},
     "output_type": "display_data"
    }
   ],
   "execution_count": 23
  },
  {
   "cell_type": "markdown",
   "id": "available-recipe",
   "metadata": {
    "id": "available-recipe"
   },
   "source": [
    "## 피처 중요도 플롯"
   ]
  },
  {
   "cell_type": "code",
   "id": "neither-prescription",
   "metadata": {
    "id": "neither-prescription",
    "outputId": "dfb07d8c-923d-4d3c-9968-73b91ba1eb8b",
    "ExecuteTime": {
     "end_time": "2024-04-28T09:00:11.959199Z",
     "start_time": "2024-04-28T09:00:11.797570Z"
    }
   },
   "source": [
    "fi = plot_feature_importances(fi)"
   ],
   "outputs": [
    {
     "data": {
      "text/plain": [
       "<Figure size 1200x800 with 1 Axes>"
      ],
      "image/png": "[encoded data removed]"
     },
     "metadata": {},
     "output_type": "display_data"
    }
   ],
   "execution_count": 24
  },
  {
   "cell_type": "markdown",
   "id": "c952cbf9",
   "metadata": {
    "id": "c952cbf9"
   },
   "source": [
    "ALL RIGHTS RESERVED. (C)NAVER Connect Foundation."
   ]
  }
 ],
 "metadata": {
  "hide_input": false,
  "kernelspec": {
   "display_name": "Python 3 (ipykernel)",
   "language": "python",
   "name": "python3"
  },
  "language_info": {
   "codemirror_mode": {
    "name": "ipython",
    "version": 3
   },
   "file_extension": ".py",
   "mimetype": "text/x-python",
   "name": "python",
   "nbconvert_exporter": "python",
   "pygments_lexer": "ipython3",
   "version": "3.8.1"
  },
  "toc": {
   "base_numbering": 1,
   "nav_menu": {},
   "number_sections": true,
   "sideBar": true,
   "skip_h1_title": false,
   "title_cell": "Table of Contents",
   "title_sidebar": "Contents",
   "toc_cell": false,
   "toc_position": {},
   "toc_section_display": true,
   "toc_window_display": false
  },
  "colab": {
   "provenance": [],
   "include_colab_link": true
  }
 },
 "nbformat": 4,
 "nbformat_minor": 5
}
