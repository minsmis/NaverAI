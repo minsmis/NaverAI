{
 "nbformat": 4,
 "nbformat_minor": 0,
 "metadata": {
  "colab": {
   "provenance": [],
   "toc_visible": true,
   "include_colab_link": true
  },
  "kernelspec": {
   "name": "python3",
   "display_name": "Python 3 (ipykernel)",
   "language": "python"
  },
  "language_info": {
   "name": "python"
  }
 },
 "cells": [
  {
   "cell_type": "markdown",
   "metadata": {
    "id": "view-in-github",
    "colab_type": "text"
   },
   "source": [
    "<a href=\"https://colab.research.google.com/github/minsmis/NaverAI/blob/main/notebooks/1%EC%A3%BC/1%EC%B0%A8%EC%8B%9C/1_%EC%BD%94%EB%94%A9%ED%99%98%EA%B2%BD_%EC%84%A4%EC%A0%95_(Windows_Mac)_%EC%BD%94%EB%93%9C%EC%9E%90%EB%A3%8C.ipynb\" target=\"_parent\"><img src=\"https://colab.research.google.com/assets/colab-badge.svg\" alt=\"Open In Colab\"/></a>"
   ]
  },
  {
   "cell_type": "markdown",
   "source": [
    "# [셀프리뷰 프로젝트] 1. 코딩환경 설정 (Windows/Mac)\n",
    "\n",
    "✔︎ 이번 프로젝트의 진행방식은 다음과 같습니다 :\n",
    "\n",
    "- '셀프리뷰 프로젝트'는 코치의 리뷰를 거치지 않는 프로젝트입니다.\n",
    "- 첨부된 파일에 안내된 절차에 따라 최소 5~10줄 이내의 간단한 코드를 작성함으로 스스로의 실력을 체크할 수 있습니다.\n",
    "- 프로젝트 수행 결과 화면을 캡처 및 제출시, 담당코치가 훈련생 분의 학습현황을 파악하고 채점을 진행합니다.\n",
    "\n",
    "\n",
    "✔︎ 프로젝트 수행에 어려움을 겪고 있다면?\n",
    "\n",
    "- 만약 프로젝트 수행에 어려움을 겪고 있거나 제출을 끝냈다면, 코치 1:1 문의를 통해 예시 정답을 요청해 보세요.\n",
    "- 웍스 내 자유게시판을 통해 다른 훈련생들과 문제점을 공유하고 해결방안을 도모하는 것도 좋은 방법입니다."
   ],
   "metadata": {
    "id": "qtWWrC1pXODn"
   }
  },
  {
   "cell_type": "markdown",
   "source": [
    "## 1. 가상환경 준비하기\n",
    "\n"
   ],
   "metadata": {
    "id": "Tf4J3U8qXzTH"
   }
  },
  {
   "cell_type": "code",
   "source": [
    "# 파이썬 프로그래밍을 하기 위한 런타임 환경을 구성합니다.\n",
    "# 코드 편집기 또는 IDE를 통해 코드 작성을 준비합니다."
   ],
   "metadata": {
    "id": "2MRCwiTuY3ha"
   },
   "execution_count": null,
   "outputs": []
  },
  {
   "cell_type": "code",
   "metadata": {
    "id": "4JzBx-ynXNX1",
    "ExecuteTime": {
     "end_time": "2024-04-23T16:44:26.578329Z",
     "start_time": "2024-04-23T16:44:26.572718Z"
    }
   },
   "source": [
    "# sys 모듈을 통해 현재 파이썬 버전을 확인해보세요.\n",
    "import sys\n",
    "print(sys.version)"
   ],
   "outputs": [
    {
     "name": "stdout",
     "output_type": "stream",
     "text": [
      "3.11.9 (main, Apr 19 2024, 11:43:47) [Clang 14.0.6 ]\n"
     ]
    }
   ],
   "execution_count": 1
  },
  {
   "cell_type": "markdown",
   "source": [
    "## 2. 실행환경 점검하기"
   ],
   "metadata": {
    "id": "fLWBFBVdYO-w"
   }
  },
  {
   "cell_type": "markdown",
   "source": [
    "### [TODO] 1_ csv 파일 불러오기"
   ],
   "metadata": {
    "id": "JZEwnj6Z-qxu"
   }
  },
  {
   "cell_type": "code",
   "source": [
    "# 주어진 csv 파일을 불러와 내용을 출력해보세요.\n",
    "import pandas as pd\n",
    "\n",
    "## 코드시작 ##\n",
    "csv = pd.read_csv('./zen of python.csv')\n",
    "\n",
    "\n",
    "## 코드종료 ##\n",
    "print(csv)"
   ],
   "metadata": {
    "id": "1fDsp_6j18Xi",
    "ExecuteTime": {
     "end_time": "2024-04-23T16:45:39.565866Z",
     "start_time": "2024-04-23T16:45:39.560633Z"
    }
   },
   "outputs": [
    {
     "name": "stdout",
     "output_type": "stream",
     "text": [
      "                         Zen of Python, by Tim Peters  \\\n",
      "0                      Beautiful is better than ugly.   \n",
      "1                   Explicit is better than implicit.   \n",
      "2                      Simple is better than complex.   \n",
      "3                 Complex is better than complicated.   \n",
      "4                         Flat is better than nested.   \n",
      "5                        Sparse is better than dense.   \n",
      "6                                 Readability counts.   \n",
      "7   Special cases aren't special enough to break t...   \n",
      "8                 Although practicality beats purity.   \n",
      "9                  Errors should never pass silently.   \n",
      "10                        Unless explicitly silenced.   \n",
      "11  In the face of ambiguity, refuse the temptatio...   \n",
      "12  There should be one-- and preferably only one ...   \n",
      "13  Although that way may not be obvious at first ...   \n",
      "14                          Now is better than never.   \n",
      "15     Although never is often better than right now.   \n",
      "16  If the implementation is hard to explain, it's...   \n",
      "17  If the implementation is easy to explain, it m...   \n",
      "18  Namespaces are one honking great idea -- let's...   \n",
      "\n",
      "                                파이썬의 선, 팀 피터슨  \n",
      "0                        아름다운것이 못생긴 것보다 좋습니다.  \n",
      "1                      명시적인 것이 암시적인 것보다 좋습니다.  \n",
      "2                        단순한 것이 복잡한 것보다 좋습니다.  \n",
      "3                        복잡한 것이 난해한 것보다 좋습니다.  \n",
      "4                       단조로운 것이 중첩된 것보다 좋습니다.  \n",
      "5                         여유로움이 밀집된 것보다 좋습니다.  \n",
      "6                                 가독성은 중요합니다.  \n",
      "7            특별한 상황이, 규칙을 깰 만큼 특별하단 얘기는 아닙니다.  \n",
      "8                     비록 실용성이 이상을 능가한다 할지라도요.  \n",
      "9                         오류는 조용히 넘어가서는 안됩니다.  \n",
      "10                          알고도 침묵하지 않는 한에서요.  \n",
      "11                    모호한 상황이라면, 추측하려 하지 마세요.  \n",
      "12  문제를 해결할 하나의 - 바람직하고 유일한 - 명백한 방법이 있을 것이다.  \n",
      "13      비록 당신이 우둔해서 처음에는 명백해 보이지 않을 수도 있겠지만요.  \n",
      "14                  지금 하는 것이 전혀 안하는 것보다 좋습니다.  \n",
      "15           비록 하지않는 것이 지금 하는 것보다 나을 때도 있지만요.  \n",
      "16         구현 방식이 설명하기 어렵다면, 그것은 좋지 않은 생각입니다.  \n",
      "17        구현 방식이 설명하기 쉽다면, 그것은 아마 좋은 생각일 겁니다.  \n",
      "18      Namespaces는 쩌는 생각입니다. 더욱 이런 것들을 해봅시다!  \n"
     ]
    }
   ],
   "execution_count": 6
  },
  {
   "cell_type": "markdown",
   "source": [
    "### [TODO] 2_ 코드 구현하기"
   ],
   "metadata": {
    "id": "nHSHaqH--u6p"
   }
  },
  {
   "cell_type": "code",
   "source": [
    "# 1. range() 함수를 사용해 1부터 n까지의 합을 구하는 함수를 만드세요.\n",
    "# hint! for 문을 이용하여 작성합니다.\n",
    "\n",
    "## 코드시작 ##\n",
    "sum = 0\n",
    "n = 10\n",
    "\n",
    "for i in range(n):\n",
    "    sum += i + 1\n",
    "\n",
    "## 코드종료 ##\n",
    "print(sum)"
   ],
   "metadata": {
    "id": "S-QSX6tUf69n",
    "ExecuteTime": {
     "end_time": "2024-04-23T16:49:41.813688Z",
     "start_time": "2024-04-23T16:49:41.807464Z"
    }
   },
   "outputs": [
    {
     "name": "stdout",
     "output_type": "stream",
     "text": [
      "55\n"
     ]
    }
   ],
   "execution_count": 10
  },
  {
   "cell_type": "code",
   "source": [
    "# 2. 다음은 OO대학교 학생들의 수학 성적입니다. 성적의 평균을 구하세요.\n",
    "\n",
    "scores = [85, 90, 100, 70, 65, 80, 75]\n",
    "sum_scores = 0\n",
    "average = 0\n",
    "\n",
    "## 코드시작 ##\n",
    "sum_scores = sum(scores)\n",
    "average = sum_scores / len(scores)\n",
    "\n",
    "## 코드종료 ##\n",
    "print(average)"
   ],
   "metadata": {
    "id": "AZBa2HT7lCYJ",
    "ExecuteTime": {
     "end_time": "2024-04-23T16:52:56.800948Z",
     "start_time": "2024-04-23T16:52:56.796540Z"
    }
   },
   "outputs": [
    {
     "name": "stdout",
     "output_type": "stream",
     "text": [
      "80.71428571428571\n"
     ]
    }
   ],
   "execution_count": 1
  },
  {
   "cell_type": "code",
   "source": [
    "# 3. numpy 라이브러리를 활용하여 크기가 10인 랜덤 벡터를 만들고, 그 평균값을 구하세요.\n",
    "\n",
    "import numpy as np\n",
    "\n",
    "## 코드시작 ##\n",
    "vec = np.random.rand(10)\n",
    "vec_mean = np.mean(vec)\n",
    "\n",
    "## 코드종료 ##\n",
    "print(vec_mean)"
   ],
   "metadata": {
    "id": "Hak-veprrRjT",
    "ExecuteTime": {
     "end_time": "2024-04-23T16:53:24.756122Z",
     "start_time": "2024-04-23T16:53:24.653673Z"
    }
   },
   "outputs": [
    {
     "name": "stdout",
     "output_type": "stream",
     "text": [
      "4.5\n"
     ]
    }
   ],
   "execution_count": 2
  },
  {
   "metadata": {
    "ExecuteTime": {
     "end_time": "2024-04-23T17:07:30.574308Z",
     "start_time": "2024-04-23T17:07:30.569151Z"
    }
   },
   "cell_type": "code",
   "source": [
    "# 4. numpy 라이브러리를 활용하여 5X5 배열을 만들고, 첫번째 행과 두번째 행의 위치를 바꾸어보세요.\n",
    "\n",
    "## 코드시작 ##\n",
    "def change_order(arr, index, target_index):\n",
    "    temp1 = arr[index].copy()\n",
    "    temp2 = arr[target_index].copy()\n",
    "    arr[index] = temp2\n",
    "    arr[target_index] = temp1\n",
    "    return arr\n",
    "\n",
    "arr = np.random.rand(5, 5)\n",
    "arr2 = change_order(arr, 0, 1)\n",
    "\n",
    "## 코드종료 ##\n",
    "print('Origin array: \\n', arr)\n",
    "print('New array: \\n', arr2)"
   ],
   "outputs": [
    {
     "name": "stdout",
     "output_type": "stream",
     "text": [
      "Origin array: \n",
      " [[0.26637448 0.49805069 0.83133338 0.77403824 0.25640285]\n",
      " [0.24396617 0.35100027 0.7800202  0.20580068 0.74958997]\n",
      " [0.17293894 0.50274424 0.95060917 0.58018321 0.84947665]\n",
      " [0.41903331 0.03520145 0.15015659 0.22826859 0.79843595]\n",
      " [0.80510888 0.90518233 0.2255557  0.60801716 0.56702903]]\n",
      "New array: \n",
      " [[0.26637448 0.49805069 0.83133338 0.77403824 0.25640285]\n",
      " [0.24396617 0.35100027 0.7800202  0.20580068 0.74958997]\n",
      " [0.17293894 0.50274424 0.95060917 0.58018321 0.84947665]\n",
      " [0.41903331 0.03520145 0.15015659 0.22826859 0.79843595]\n",
      " [0.80510888 0.90518233 0.2255557  0.60801716 0.56702903]]\n"
     ]
    }
   ],
   "execution_count": 8
  },
  {
   "metadata": {
    "ExecuteTime": {
     "end_time": "2024-04-23T17:09:30.767538Z",
     "start_time": "2024-04-23T17:09:30.761132Z"
    }
   },
   "cell_type": "code",
   "source": [
    "# 5. numpy 라이브러리를 활용해 다음 두 배열의 유클리드 거리를 구해보세요.\n",
    "\n",
    "a = np.array([1,2])\n",
    "b = np.array([4,5])\n",
    "\n",
    "## 코드시작 ##\n",
    "def euclidean_distance(a, b):\n",
    "    return np.sqrt(np.sum((a - b) ** 2))\n",
    "distance = euclidean_distance(a, b)\n",
    "\n",
    "## 코드종료 ##\n",
    "print(\"두 배열 사이의 거리 :\", distance)"
   ],
   "outputs": [
    {
     "name": "stdout",
     "output_type": "stream",
     "text": [
      "두 배열 사이의 거리 : 4.242640687119285\n"
     ]
    }
   ],
   "execution_count": 9
  },
  {
   "cell_type": "markdown",
   "source": [
    "## 3. 셀프리뷰 진행하기\n",
    "\n",
    "- 수행한 프로젝트 내용을 확인하고, 셀프리뷰를 진행합니다.\n",
    "- 내가 작성한 코드에 오류는 없는지 또는 더 나은 방법은 없는지 고민해 봅니다.\n",
    "- 리뷰를 완료했다면, 실행 결과 화면을 캡쳐 및 제출하여 수행여부를 증빙합니다. (파일첨부 NO! 본문에 이미지 삽입 YES!)\n",
    "- 이번 차시에 궁금한 점이 있다면, 제출시 본문에 내용을 함께 작성하여 제출할 수 있습니다."
   ],
   "metadata": {
    "id": "KcbtjRcC0l_X"
   }
  },
  {
   "cell_type": "markdown",
   "source": [
    "ALL RIGHTS RESERVED. ⓒNAVER Connect Foundation."
   ],
   "metadata": {
    "id": "ZqyoAUle1HhO"
   }
  }
 ]
}
