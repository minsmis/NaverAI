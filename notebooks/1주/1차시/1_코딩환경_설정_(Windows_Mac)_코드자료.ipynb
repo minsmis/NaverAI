{
  "nbformat": 4,
  "nbformat_minor": 0,
  "metadata": {
    "colab": {
      "provenance": [],
      "toc_visible": true,
      "include_colab_link": true
    },
    "kernelspec": {
      "name": "python3",
      "display_name": "Python 3"
    },
    "language_info": {
      "name": "python"
    }
  },
  "cells": [
    {
      "cell_type": "markdown",
      "metadata": {
        "id": "view-in-github",
        "colab_type": "text"
      },
      "source": [
        "<a href=\"https://colab.research.google.com/github/minsmis/NaverAI/blob/main/notebooks/1%EC%A3%BC/1%EC%B0%A8%EC%8B%9C/1_%EC%BD%94%EB%94%A9%ED%99%98%EA%B2%BD_%EC%84%A4%EC%A0%95_(Windows_Mac)_%EC%BD%94%EB%93%9C%EC%9E%90%EB%A3%8C.ipynb\" target=\"_parent\"><img src=\"https://colab.research.google.com/assets/colab-badge.svg\" alt=\"Open In Colab\"/></a>"
      ]
    },
    {
      "cell_type": "markdown",
      "source": [
        "# [셀프리뷰 프로젝트] 1. 코딩환경 설정 (Windows/Mac)\n",
        "\n",
        "✔︎ 이번 프로젝트의 진행방식은 다음과 같습니다 :\n",
        "\n",
        "- '셀프리뷰 프로젝트'는 코치의 리뷰를 거치지 않는 프로젝트입니다.\n",
        "- 첨부된 파일에 안내된 절차에 따라 최소 5~10줄 이내의 간단한 코드를 작성함으로 스스로의 실력을 체크할 수 있습니다.\n",
        "- 프로젝트 수행 결과 화면을 캡처 및 제출시, 담당코치가 훈련생 분의 학습현황을 파악하고 채점을 진행합니다.\n",
        "\n",
        "\n",
        "✔︎ 프로젝트 수행에 어려움을 겪고 있다면?\n",
        "\n",
        "- 만약 프로젝트 수행에 어려움을 겪고 있거나 제출을 끝냈다면, 코치 1:1 문의를 통해 예시 정답을 요청해 보세요.\n",
        "- 웍스 내 자유게시판을 통해 다른 훈련생들과 문제점을 공유하고 해결방안을 도모하는 것도 좋은 방법입니다."
      ],
      "metadata": {
        "id": "qtWWrC1pXODn"
      }
    },
    {
      "cell_type": "markdown",
      "source": [
        "## 1. 가상환경 준비하기\n",
        "\n"
      ],
      "metadata": {
        "id": "Tf4J3U8qXzTH"
      }
    },
    {
      "cell_type": "code",
      "source": [
        "# 파이썬 프로그래밍을 하기 위한 런타임 환경을 구성합니다.\n",
        "# 코드 편집기 또는 IDE를 통해 코드 작성을 준비합니다."
      ],
      "metadata": {
        "id": "2MRCwiTuY3ha"
      },
      "execution_count": null,
      "outputs": []
    },
    {
      "cell_type": "code",
      "execution_count": null,
      "metadata": {
        "id": "4JzBx-ynXNX1"
      },
      "outputs": [],
      "source": [
        "# sys 모듈을 통해 현재 파이썬 버전을 확인해보세요.\n",
        "import sys\n",
        "print(sys.version)"
      ]
    },
    {
      "cell_type": "markdown",
      "source": [
        "## 2. 실행환경 점검하기"
      ],
      "metadata": {
        "id": "fLWBFBVdYO-w"
      }
    },
    {
      "cell_type": "markdown",
      "source": [
        "### [TODO] 1_ csv 파일 불러오기"
      ],
      "metadata": {
        "id": "JZEwnj6Z-qxu"
      }
    },
    {
      "cell_type": "code",
      "source": [
        "# 주어진 csv 파일을 불러와 내용을 출력해보세요.\n",
        "import pandas as pd\n",
        "\n",
        "## 코드시작 ##\n",
        "\n",
        "\n",
        "\n",
        "## 코드종료 ##"
      ],
      "metadata": {
        "id": "1fDsp_6j18Xi"
      },
      "execution_count": null,
      "outputs": []
    },
    {
      "cell_type": "markdown",
      "source": [
        "### [TODO] 2_ 코드 구현하기"
      ],
      "metadata": {
        "id": "nHSHaqH--u6p"
      }
    },
    {
      "cell_type": "code",
      "source": [
        "# 1. range() 함수를 사용해 1부터 n까지의 합을 구하는 함수를 만드세요.\n",
        "# hint! for 문을 이용하여 작성합니다.\n",
        "\n",
        "## 코드시작 ##\n",
        "\n",
        "\n",
        "\n",
        "\n",
        "\n",
        "## 코드종료 ##"
      ],
      "metadata": {
        "id": "S-QSX6tUf69n"
      },
      "execution_count": null,
      "outputs": []
    },
    {
      "cell_type": "code",
      "source": [
        "# 2. 다음은 OO대학교 학생들의 수학 성적입니다. 성적의 평균을 구하세요.\n",
        "\n",
        "scores = [85, 90, 100, 70, 65, 80, 75]\n",
        "sum = 0\n",
        "average = 0\n",
        "\n",
        "## 코드시작 ##\n",
        "\n",
        "\n",
        "\n",
        "## 코드종료 ##\n",
        "\n",
        "print(average)"
      ],
      "metadata": {
        "id": "AZBa2HT7lCYJ"
      },
      "execution_count": null,
      "outputs": []
    },
    {
      "cell_type": "code",
      "source": [
        "# 3. numpy 라이브러리를 활용하여 크기가 10인 랜덤 벡터를 만들고, 그 평균값을 구하세요.\n",
        "\n",
        "import numpy as np\n",
        "\n",
        "## 코드시작 ##\n",
        "\n",
        "\n",
        "\n",
        "## 코드종료 ##"
      ],
      "metadata": {
        "id": "Hak-veprrRjT"
      },
      "execution_count": null,
      "outputs": []
    },
    {
      "cell_type": "code",
      "source": [
        "# 4. numpy 라이브러리를 활용하여 5X5 배열을 만들고, 첫번째 행과 두번째 행의 위치를 바꾸어보세요.\n",
        "\n",
        "## 코드시작 ##\n",
        "\n",
        "\n",
        "\n",
        "## 코드종료 ##"
      ],
      "metadata": {
        "id": "In_gRmb8slfb"
      },
      "execution_count": null,
      "outputs": []
    },
    {
      "cell_type": "code",
      "source": [
        "# 5. numpy 라이브러리를 활용해 다음 두 배열의 유클리드 거리를 구해보세요.\n",
        "\n",
        "a = np.array([1,2])\n",
        "b = np.array([4,5])\n",
        "\n",
        "## 코드시작 ##\n",
        "\n",
        "\n",
        "\n",
        "## 코드종료 ##\n",
        "\n",
        "print(\"두 배열 사이의 거리 :\", distance)"
      ],
      "metadata": {
        "id": "rfYN29Nuwr1y"
      },
      "execution_count": null,
      "outputs": []
    },
    {
      "cell_type": "markdown",
      "source": [
        "## 3. 셀프리뷰 진행하기\n",
        "\n",
        "- 수행한 프로젝트 내용을 확인하고, 셀프리뷰를 진행합니다.\n",
        "- 내가 작성한 코드에 오류는 없는지 또는 더 나은 방법은 없는지 고민해 봅니다.\n",
        "- 리뷰를 완료했다면, 실행 결과 화면을 캡쳐 및 제출하여 수행여부를 증빙합니다. (파일첨부 NO! 본문에 이미지 삽입 YES!)\n",
        "- 이번 차시에 궁금한 점이 있다면, 제출시 본문에 내용을 함께 작성하여 제출할 수 있습니다."
      ],
      "metadata": {
        "id": "KcbtjRcC0l_X"
      }
    },
    {
      "cell_type": "markdown",
      "source": [
        "ALL RIGHTS RESERVED. ⓒNAVER Connect Foundation."
      ],
      "metadata": {
        "id": "ZqyoAUle1HhO"
      }
    }
  ]
}