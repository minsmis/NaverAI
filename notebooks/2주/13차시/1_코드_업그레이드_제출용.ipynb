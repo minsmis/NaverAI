{
  "nbformat": 4,
  "nbformat_minor": 0,
  "metadata": {
    "colab": {
      "provenance": [],
      "include_colab_link": true
    },
    "kernelspec": {
      "name": "python3",
      "display_name": "Python 3"
    },
    "language_info": {
      "name": "python"
    }
  },
  "cells": [
    {
      "cell_type": "markdown",
      "metadata": {
        "id": "view-in-github",
        "colab_type": "text"
      },
      "source": [
        "<a href=\"https://colab.research.google.com/github/minsmis/NaverAI/blob/main/notebooks/2%EC%A3%BC/13%EC%B0%A8%EC%8B%9C/1_%EC%BD%94%EB%93%9C_%EC%97%85%EA%B7%B8%EB%A0%88%EC%9D%B4%EB%93%9C_%EC%A0%9C%EC%B6%9C%EC%9A%A9.ipynb\" target=\"_parent\"><img src=\"https://colab.research.google.com/assets/colab-badge.svg\" alt=\"Open In Colab\"/></a>"
      ]
    },
    {
      "cell_type": "markdown",
      "source": [
        "# [코드리뷰 프로젝트] 1. 코드 업그레이드"
      ],
      "metadata": {
        "id": "XRi1-6YebWHw"
      }
    },
    {
      "cell_type": "markdown",
      "source": [
        "## 0. 전처리 & 모델 학습"
      ],
      "metadata": {
        "id": "zhzbNqhvPsQL"
      }
    },
    {
      "cell_type": "code",
      "execution_count": null,
      "metadata": {
        "id": "sksJqrwFbPl1"
      },
      "outputs": [],
      "source": [
        "# 데이터 다운로드\n",
        "!wget –no-check-certificate 'https://docs.google.com/uc?export=download&id=1IVvuG3SMlarSSGmcliGFjq1fMxZtksE0' -O kaggle-kakr-housing-data.zip"
      ]
    },
    {
      "cell_type": "code",
      "source": [
        "# 다운로드 받은 zip파일 압축풀기\n",
        "!unzip -qq ./kaggle-kakr-housing-data.zip"
      ],
      "metadata": {
        "id": "vvuyQUz8cO9l"
      },
      "execution_count": null,
      "outputs": []
    },
    {
      "cell_type": "code",
      "source": [
        "import warnings\n",
        "warnings.filterwarnings(\"ignore\")\n",
        "\n",
        "import os\n",
        "from os.path import join\n",
        "\n",
        "import pandas as pd\n",
        "import numpy as np\n",
        "\n",
        "from sklearn.ensemble import GradientBoostingRegressor\n",
        "from sklearn.model_selection import KFold, cross_val_score\n",
        "import xgboost as xgb\n",
        "import lightgbm as lgb\n",
        "\n",
        "import seaborn as sns\n",
        "import matplotlib.pyplot as plt\n",
        "\n",
        "%matplotlib inline\n",
        "%config InlineBackend.figure_format = 'retina'\n",
        "\n",
        "#--------------------------------------------------------------------------------------------------------------------------------------\n",
        "train_data_path = join('./data/train.csv')\n",
        "sub_data_path = join('./data/test.csv')      # 테스트, 즉 submission 시 사용할 데이터 경로\n",
        "\n",
        "#--------------------------------------------------------------------------------------------------------------------------------------\n",
        "data = pd.read_csv(train_data_path)\n",
        "sub = pd.read_csv(sub_data_path)\n",
        "\n",
        "#--------------------------------------------------------------------------------------------------------------------------------------\n",
        "y = data['price']\n",
        "del data['price']\n",
        "\n",
        "train_len = len(data)\n",
        "data = pd.concat((data, sub), axis=0)\n",
        "\n",
        "sub_id = data['id'][train_len:]\n",
        "del data['id']\n",
        "\n",
        "data['date'] = data['date'].apply(lambda x : str(x[:6])).astype(int)\n",
        "\n",
        "#--------------------------------------------------------------------------------------------------------------------------------------\n",
        "skew_columns = ['bedrooms', 'sqft_living', 'sqft_lot', 'sqft_above', 'sqft_basement']\n",
        "\n",
        "for c in skew_columns:\n",
        "    data[c] = np.log1p(data[c].values)\n",
        "\n",
        "#--------------------------------------------------------------------------------------------------------------------------------------\n",
        "y_log_transformation = np.log1p(y)\n",
        "\n",
        "sub = data.iloc[train_len:, :] # 테스트 데이터\n",
        "x = data.iloc[:train_len, :] # 학습 데이터\n",
        "\n",
        "print(x.shape)\n",
        "print(sub.shape)\n"
      ],
      "metadata": {
        "id": "y1UFAEeqcSU8"
      },
      "execution_count": null,
      "outputs": []
    },
    {
      "cell_type": "code",
      "source": [
        "#--------------------------------------------------------------------------------------------------------------------------------------\n",
        "gboost = GradientBoostingRegressor(random_state=2023)\n",
        "xgboost = xgb.XGBRegressor(random_state=2023)\n",
        "lightgbm = lgb.LGBMRegressor(random_state=2023)\n",
        "\n",
        "models = [{'model':gboost, 'name':'GradientBoosting'}, {'model':xgboost, 'name':'XGBoost'},\n",
        "          {'model':lightgbm, 'name':'LightGBM'}]\n",
        "\n",
        "#--------------------------------------------------------------------------------------------------------------------------------------\n",
        "def get_cv_score(models):\n",
        "    kfold = KFold(n_splits=5).get_n_splits(x.values)\n",
        "    for m in models:\n",
        "        CV_score = np.mean(cross_val_score(m['model'], X=x.values, y=y, cv=kfold))\n",
        "        print(f\"Model: {m['name']}, CV score:{CV_score:.4f}\")\n",
        "\n",
        "get_cv_score(models)\n"
      ],
      "metadata": {
        "id": "eXgg7Z5Sxm5-"
      },
      "execution_count": null,
      "outputs": []
    },
    {
      "cell_type": "code",
      "source": [
        "#--------------------------------------------------------------------------------------------------------------------------------------\n",
        "def AveragingBlending(models, x, y, sub_x):\n",
        "    # 모델학습\n",
        "    for m in models :\n",
        "        m['model'].fit(x.values, y)\n",
        "\n",
        "    # 모델예측\n",
        "    predictions = np.column_stack([\n",
        "        m['model'].predict(sub_x.values) for m in models\n",
        "    ])\n",
        "\n",
        "    # 각 모델 에측의 평균을 return\n",
        "    return np.mean(predictions, axis=1)\n",
        "\n",
        "y_pred = AveragingBlending(models, x, y, sub)\n",
        "print(len(y_pred))\n",
        "y_pred"
      ],
      "metadata": {
        "id": "GcswTX8fxrpj"
      },
      "execution_count": null,
      "outputs": []
    },
    {
      "cell_type": "markdown",
      "source": [
        "## 1. 하이퍼 파라미터 튜닝\n",
        "\n",
        "- 모델 성능을 평가하기 위한 지표를 구현합니다.\n",
        "- 더 높은 성능을 가진 머신러닝 모델을 만들기 위해 하이퍼 파라미터를 활용합니다.\n",
        "- 튜닝한 결과를 모델에 저장하고, 학습 후 예측 결과를 생성합니다."
      ],
      "metadata": {
        "id": "pNmmkBAKPy54"
      }
    },
    {
      "cell_type": "code",
      "source": [
        "train = x # 기존 학습 데이터를 train으로\n",
        "test = sub # 기존 테스트 데이터를 test로\n",
        "y = np.log1p(y) # y값(price)의 로그변환"
      ],
      "metadata": {
        "id": "dPiKB-SGflZP"
      },
      "execution_count": null,
      "outputs": []
    },
    {
      "cell_type": "code",
      "source": [
        "from sklearn.model_selection import train_test_split\n",
        "from sklearn.metrics import mean_squared_error"
      ],
      "metadata": {
        "id": "ard33Ap3forQ"
      },
      "execution_count": null,
      "outputs": []
    },
    {
      "cell_type": "code",
      "source": [
        "def rmse(y_test, y_pred):\n",
        "    return np.sqrt(mean_squared_error(np.expm1(y_test), np.expm1(y_pred)))"
      ],
      "metadata": {
        "id": "ppxRGeLOfrGi"
      },
      "execution_count": null,
      "outputs": []
    },
    {
      "cell_type": "code",
      "source": [
        "from xgboost import XGBRegressor\n",
        "from lightgbm import LGBMRegressor\n",
        "from sklearn.ensemble import GradientBoostingRegressor, RandomForestRegressor"
      ],
      "metadata": {
        "id": "1vSZeuqzfuxU"
      },
      "execution_count": null,
      "outputs": []
    },
    {
      "cell_type": "code",
      "source": [
        "# random_state는 모델초기화나 데이터셋 구성에 사용되는 랜덤 시드값입니다.\n",
        "# random_state=None    # 이게 초기값입니다. 아무것도 지정하지 않고 None을 넘겨주면 모델 내부에서 임의로 선택합니다.\n",
        "random_state=2023        # 하지만 우리는 이렇게 고정값을 세팅해 두겠습니다.\n",
        "\n",
        "gboost = GradientBoostingRegressor(random_state=random_state)\n",
        "xgboost = XGBRegressor(random_state=random_state)\n",
        "lightgbm = LGBMRegressor(random_state=random_state)\n",
        "rdforest = RandomForestRegressor(random_state=random_state)\n",
        "\n",
        "models = [gboost, xgboost, lightgbm, rdforest]"
      ],
      "metadata": {
        "id": "AweCVW9VfwV2"
      },
      "execution_count": null,
      "outputs": []
    },
    {
      "cell_type": "code",
      "source": [
        "def get_scores(models, train, y):\n",
        "    df = {} # 결과 저장을 위한 table 생성\n",
        "    for model in models: # 모델명 추출\n",
        "        model_name = model.__class__.__name__\n",
        "        # 0.2만 validation에 사용\n",
        "        X_train, X_val, y_train, y_val = train_test_split(train, y, random_state=random_state, test_size=0.2)\n",
        "\n",
        "        # 모델학습\n",
        "        model.fit(X_train, y_train)\n",
        "\n",
        "        #학습된 모델 테스트\n",
        "        y_pred = model.predict(X_val)\n",
        "\n",
        "        # rmse를 이용한 계산\n",
        "        df[model_name] = rmse(y_val, y_pred)\n",
        "\n",
        "        # 테이블을 DataFrame으로 변환\n",
        "        score_df = pd.DataFrame(df, index=['RMSE']).T.sort_values('RMSE', ascending=False)\n",
        "    return score_df"
      ],
      "metadata": {
        "id": "GWB8LMHqf5LO"
      },
      "execution_count": null,
      "outputs": []
    },
    {
      "cell_type": "code",
      "source": [
        "from sklearn.model_selection import GridSearchCV"
      ],
      "metadata": {
        "id": "I7IbpMxpf74p"
      },
      "execution_count": null,
      "outputs": []
    },
    {
      "cell_type": "code",
      "source": [
        "param_grid = {\n",
        "    'n_estimators': [50, 100],\n",
        "    'max_depth': [1, 10],\n",
        "}"
      ],
      "metadata": {
        "id": "PTTdv4YogKff"
      },
      "execution_count": null,
      "outputs": []
    },
    {
      "cell_type": "code",
      "source": [
        "model = LGBMRegressor(random_state=random_state)"
      ],
      "metadata": {
        "id": "034YJUIygMsJ"
      },
      "execution_count": null,
      "outputs": []
    },
    {
      "cell_type": "code",
      "source": [
        "grid_model = GridSearchCV(model, param_grid=param_grid, \\\n",
        "                        scoring='neg_mean_squared_error', \\\n",
        "                        cv=5, verbose=1, n_jobs=5)\n",
        "\n",
        "grid_model.fit(x, y)"
      ],
      "metadata": {
        "id": "8eMIcL-ugPq9"
      },
      "execution_count": null,
      "outputs": []
    },
    {
      "cell_type": "code",
      "source": [
        "grid_model.cv_results_"
      ],
      "metadata": {
        "id": "9fGNg-LugU5r"
      },
      "execution_count": null,
      "outputs": []
    },
    {
      "cell_type": "code",
      "source": [
        "params = grid_model.cv_results_['params']\n",
        "params"
      ],
      "metadata": {
        "id": "n5c10DD0gXrm"
      },
      "execution_count": null,
      "outputs": []
    },
    {
      "cell_type": "code",
      "source": [
        "score = grid_model.cv_results_['mean_test_score']\n",
        "score"
      ],
      "metadata": {
        "id": "rlBfgYYjgYp4"
      },
      "execution_count": null,
      "outputs": []
    },
    {
      "cell_type": "code",
      "source": [
        "results = pd.DataFrame(params)\n",
        "results['score'] = score\n",
        "\n",
        "results"
      ],
      "metadata": {
        "id": "WK77oVcqgclp"
      },
      "execution_count": null,
      "outputs": []
    },
    {
      "cell_type": "code",
      "source": [
        "results['RMSE'] = np.sqrt(-1 * results['score'])\n",
        "results"
      ],
      "metadata": {
        "id": "g6bxc8zRgmI6"
      },
      "execution_count": null,
      "outputs": []
    },
    {
      "cell_type": "code",
      "source": [
        "# 미션 : RMSE 컬럼명을 바꿔보세요.\n",
        "\n",
        "##############################################\n",
        "#### 코드리뷰 1-1. 알맞은 코드를 직접 작성해보세요! ####\n",
        "##############################################\n",
        "\n",
        "results = ... # '...'에 코드작성\n",
        "results"
      ],
      "metadata": {
        "id": "-77J7XzIhJJd"
      },
      "execution_count": null,
      "outputs": []
    },
    {
      "cell_type": "code",
      "source": [
        "# 미션 : results 데이터 프레임에서 RMSLE가 낮은 순으로 정렬해보세요.\n",
        "\n",
        "##############################################\n",
        "#### 코드리뷰 1-2. 알맞은 코드를 직접 작성해보세요! ####\n",
        "##############################################\n",
        "\n",
        "results = ... # '...' 에 코드 작성\n",
        "results"
      ],
      "metadata": {
        "id": "pSY4KduShX15"
      },
      "execution_count": null,
      "outputs": []
    },
    {
      "cell_type": "code",
      "source": [
        "## 미션 : GridSearchCV 를 통해 진행한 내용을 함수로 만들어보세요.\n",
        "\n",
        "##############################################\n",
        "#### 코드리뷰 1-3. 알맞은 코드를 직접 작성해보세요! ####\n",
        "##############################################\n",
        "\n",
        "def my_GridSearch(model, train, y, param_grid, verbose=2, n_jobs=5):\n",
        "    # GridSearchCV 모델로 초기화\n",
        "    grid_model = GridSearchCV(model, param_grid=param_grid, scoring='neg_mean_squared_error', \\\n",
        "                              cv=5, verbose=verbose, n_jobs=n_jobs)\n",
        "\n",
        "    # 모델 fitting\n",
        "    grid_model.fit(train, y)\n",
        "\n",
        "    # 결과값 저장\n",
        "    params = ... # '...' 에 코드 작성\n",
        "    score = ... # '...' 에 코드 작성\n",
        "\n",
        "    # 데이터 프레임 생성\n",
        "    results = pd.DataFrame(params)\n",
        "    results['score'] = ... # '...'에 코드 작성\n",
        "\n",
        "    # RMSLE 값 계산\n",
        "    results['RMSLE'] = ... # '...'에 코드작성\n",
        "\n",
        "    # RMSLE 값으로 정렬\n",
        "    results = ...\n",
        "    results = ... # '...'에 코드작성\n",
        "\n",
        "    return results"
      ],
      "metadata": {
        "id": "roQCC8IDhoX5"
      },
      "execution_count": null,
      "outputs": []
    },
    {
      "cell_type": "markdown",
      "source": [
        "## 2. 대회 참여하기\n",
        "- 예측 결과를 대회에 제출하고, Public Score를 확인합니다."
      ],
      "metadata": {
        "id": "0QhtSkz2P3mH"
      }
    },
    {
      "cell_type": "code",
      "source": [
        "param_grid = {\n",
        "    'n_estimators': [50, 100],\n",
        "    'max_depth': [1, 10],\n",
        "}\n",
        "\n",
        "model = LGBMRegressor(random_state=random_state)\n",
        "my_GridSearch(model, train, y, param_grid, verbose=2, n_jobs=5)"
      ],
      "metadata": {
        "id": "qiWsXRNVh2BJ"
      },
      "execution_count": null,
      "outputs": []
    },
    {
      "cell_type": "code",
      "source": [
        "model = LGBMRegressor(max_depth=10, n_estimators=100, random_state=random_state)\n",
        "model.fit(train, y)\n",
        "prediction = model.predict(test)\n",
        "prediction"
      ],
      "metadata": {
        "id": "52fNiNa_h4Mu"
      },
      "execution_count": null,
      "outputs": []
    },
    {
      "cell_type": "code",
      "source": [
        "prediction = np.expm1(prediction)\n",
        "prediction"
      ],
      "metadata": {
        "id": "C6iM10fCh6Kx"
      },
      "execution_count": null,
      "outputs": []
    },
    {
      "cell_type": "code",
      "source": [
        "submission_path = './data/sample_submission.csv'\n",
        "submission = pd.read_csv(submission_path)\n",
        "submission.head()"
      ],
      "metadata": {
        "id": "qGqvYYT3h81w"
      },
      "execution_count": null,
      "outputs": []
    },
    {
      "cell_type": "code",
      "source": [
        "submission['price'] = prediction\n",
        "submission.head()"
      ],
      "metadata": {
        "id": "qpmB297Mh_TR"
      },
      "execution_count": null,
      "outputs": []
    },
    {
      "cell_type": "code",
      "source": [
        "submission_csv_path = '{}/submission_{}_RMSLE_{}.csv'.format('./data', 'lgbm', '0.164399')\n",
        "submission.to_csv(submission_csv_path, index=False)\n",
        "print(submission_csv_path)"
      ],
      "metadata": {
        "id": "6u66kBRMiBME"
      },
      "execution_count": null,
      "outputs": []
    },
    {
      "cell_type": "code",
      "source": [
        "\"\"\"\n",
        "아래의 과정을 수행하는 `save_submission(model, train, y, test, model_name, rmsle)` 함수.\n",
        "1. 모델을 `train`, `y`로 학습시킵니다.\n",
        "2. `test`에 대해 예측합니다.\n",
        "3. 예측값을 `np.expm1`으로 변환하고, `submission_model_name_RMSLE_100000.csv` 형태의 `csv` 파일을 저장합니다.\n",
        "\"\"\"\n",
        "\n",
        "def save_submission(model, train, y, test, model_name, rmsle=None):\n",
        "    model.fit(train, y)\n",
        "    prediction = model.predict(test)\n",
        "    prediction = np.expm1(prediction)\n",
        "    data_dir = './data'\n",
        "    submission_path = join(data_dir, 'sample_submission.csv')\n",
        "    submission = pd.read_csv(submission_path)\n",
        "    submission['price'] = prediction\n",
        "    submission_csv_path = '{}/submission_{}_RMSLE_{}.csv'.format(data_dir, model_name, rmsle)\n",
        "    submission.to_csv(submission_csv_path, index=False)\n",
        "    print('{} saved!'.format(submission_csv_path))"
      ],
      "metadata": {
        "id": "5DhgJKIOiDrs"
      },
      "execution_count": null,
      "outputs": []
    },
    {
      "cell_type": "code",
      "source": [
        "save_submission(model, train, y, test, 'lgbm', rmsle='0.164399')"
      ],
      "metadata": {
        "id": "BCmee4L01efh"
      },
      "execution_count": null,
      "outputs": []
    },
    {
      "cell_type": "code",
      "source": [
        "# 미션 : 아래에 Public Score를 기록하여 제출해보세요.\n",
        "\n",
        "print(...)"
      ],
      "metadata": {
        "id": "Ud8JV0en515I"
      },
      "execution_count": null,
      "outputs": []
    },
    {
      "cell_type": "markdown",
      "source": [
        "## 3. 코드리뷰 프로젝트 제출하기\n",
        "\n",
        "- 수행한 프로젝트 내용을 확인하고, 전체 코드를 파이썬 파일(.py)로 저장합니다.\n",
        "- 다운로드 받은 .py 파일을 zip으로 압축 및 제출하여 수행여부를 증빙합니다.\n",
        "- 이번 차시에 궁금한 점이 있다면, 본문에 내용을 함께 작성하여 제출할 수 있습니다."
      ],
      "metadata": {
        "id": "H-_qVXxZ6RTV"
      }
    },
    {
      "cell_type": "markdown",
      "source": [
        "ALL RIGHTS RESERVED. (C)NAVER Connect Foundation."
      ],
      "metadata": {
        "id": "qiOuiC8f1hwn"
      }
    }
  ]
}