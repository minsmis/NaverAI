{
 "nbformat": 4,
 "nbformat_minor": 0,
 "metadata": {
  "colab": {
   "provenance": [],
   "include_colab_link": true
  },
  "kernelspec": {
   "name": "python3",
   "display_name": "Python 3 (ipykernel)",
   "language": "python"
  },
  "language_info": {
   "name": "python"
  }
 },
 "cells": [
  {
   "cell_type": "markdown",
   "metadata": {
    "id": "view-in-github",
    "colab_type": "text"
   },
   "source": [
    "<a href=\"https://colab.research.google.com/github/minsmis/NaverAI/blob/main/notebooks/2%EC%A3%BC/13%EC%B0%A8%EC%8B%9C/1_%EC%BD%94%EB%93%9C_%EC%97%85%EA%B7%B8%EB%A0%88%EC%9D%B4%EB%93%9C_%EC%86%8C%EA%B0%9C%EC%9A%A9.ipynb\" target=\"_parent\"><img src=\"https://colab.research.google.com/assets/colab-badge.svg\" alt=\"Open In Colab\"/></a>"
   ]
  },
  {
   "cell_type": "markdown",
   "source": [
    "# [코드리뷰 프로젝트] 1. 코드 업그레이드\n",
    "\n",
    "✔︎ 이번 프로젝트의 진행방식은 다음과 같습니다 :\n",
    "- '코드리뷰 프로젝트'는 코치의 1:1 피드백이 진행되는 프로젝트입니다.\n",
    "- 첨부된 파일에 안내된 절차에 따라 최소 10줄 이상의 긴 코드를 작성함으로 미션을 수행합니다.\n",
    "- 작성할 코드 구간은 ## 코드시작 ## 부터 ## 코드종료 ## 구간입니다. 원활한 코드리뷰를 위해 나머지 명시되지 않은 구간은 임의로 수정하지 마세요!\n",
    "- 프로젝트 제출시, 담당코치가 훈련생 분의 학습현황을 파악하고 리뷰를 진행합니다. (영업일 기준 7일 이내)\n",
    "\n",
    "\n",
    "✔︎ 프로젝트 수행에 어려움을 겪고 있다면?\n",
    "- 만약 프로젝트 수행에 어려움을 겪고 있거나 제출을 끝냈다면, 코치 1:1 문의를 통해 예시 정답을 요청해 보세요.\n",
    "- 웍스와 자유게시판을 통해 다른 훈련생들과 문제점을 공유하고 해결방안을 도모하는 것도 좋은 방법입니다.\n"
   ],
   "metadata": {
    "id": "XRi1-6YebWHw"
   }
  },
  {
   "cell_type": "markdown",
   "source": [
    "## 0. 전처리 & 모델 학습"
   ],
   "metadata": {
    "id": "l1RHMdRzDDz8"
   }
  },
  {
   "cell_type": "markdown",
   "source": [
    "**본 프로젝트는 ' [셀프리뷰 프로젝트] 4. 캐글 제출 ' 과 연결되어 있습니다.**\n",
    "\n",
    "미션에 대한 이해도를 높이기 위해 앞선 프로젝트를 먼저 수행하신 후, 진행하시는 걸 권장해 드립니다."
   ],
   "metadata": {
    "id": "-cnlTgp3teUV"
   }
  },
  {
   "cell_type": "code",
   "metadata": {
    "id": "sksJqrwFbPl1",
    "ExecuteTime": {
     "end_time": "2024-05-03T16:59:17.012982Z",
     "start_time": "2024-05-03T16:59:14.734705Z"
    }
   },
   "source": [
    "# 데이터 다운로드\n",
    "# !wget –no-check-certificate 'https://docs.google.com/uc?export=download&id=1IVvuG3SMlarSSGmcliGFjq1fMxZtksE0' -O kaggle-kakr-housing-data.zip\n",
    "\n",
    "# 데이터 다운로드: Changed for jupyter in pycharm.\n",
    "import wget\n",
    "\n",
    "url = 'https://docs.google.com/uc?export=download&id=1IVvuG3SMlarSSGmcliGFjq1fMxZtksE0'\n",
    "filename = wget.download(url, 'kaggle-kakr-housing-data.zip')\n",
    "print(filename)"
   ],
   "outputs": [
    {
     "name": "stdout",
     "output_type": "stream",
     "text": [
      "kaggle-kakr-housing-data.zip\n"
     ]
    }
   ],
   "execution_count": 1
  },
  {
   "cell_type": "code",
   "source": [
    "# 다운로드 받은 zip파일 압축풀기\n",
    "# !unzip -qq ./kaggle-kakr-housing-data.zip\n",
    "\n",
    "# 다운로드 받은 zip파일 압축풀기\n",
    "import zipfile\n",
    "\n",
    "targetdir = './'\n",
    "with zipfile.ZipFile(filename, \"r\") as zip_ref:\n",
    "    zip_ref.extractall(targetdir)"
   ],
   "metadata": {
    "id": "vvuyQUz8cO9l",
    "ExecuteTime": {
     "end_time": "2024-05-03T16:59:18.927108Z",
     "start_time": "2024-05-03T16:59:18.913558Z"
    }
   },
   "outputs": [],
   "execution_count": 2
  },
  {
   "cell_type": "markdown",
   "source": [
    "지난 번에 작성한 전처리 & 모델 학습 코드를 실행합니다."
   ],
   "metadata": {
    "id": "oM9BNK-3cMfp"
   }
  },
  {
   "cell_type": "code",
   "source": [
    "import warnings\n",
    "warnings.filterwarnings(\"ignore\")\n",
    "\n",
    "import os\n",
    "from os.path import join\n",
    "\n",
    "import pandas as pd\n",
    "import numpy as np\n",
    "\n",
    "from sklearn.ensemble import GradientBoostingRegressor\n",
    "from sklearn.model_selection import KFold, cross_val_score\n",
    "import xgboost as xgb\n",
    "import lightgbm as lgb\n",
    "\n",
    "import seaborn as sns\n",
    "import matplotlib.pyplot as plt\n",
    "\n",
    "%matplotlib inline\n",
    "%config InlineBackend.figure_format = 'retina'\n",
    "\n",
    "#--------------------------------------------------------------------------------------------------------------------------------------\n",
    "train_data_path = join('./data/train.csv')\n",
    "sub_data_path = join('./data/test.csv')      # 테스트, 즉 submission 시 사용할 데이터 경로\n",
    "\n",
    "#--------------------------------------------------------------------------------------------------------------------------------------\n",
    "data = pd.read_csv(train_data_path)\n",
    "sub = pd.read_csv(sub_data_path)\n",
    "\n",
    "#--------------------------------------------------------------------------------------------------------------------------------------\n",
    "y = data['price']\n",
    "del data['price']\n",
    "\n",
    "train_len = len(data)\n",
    "data = pd.concat((data, sub), axis=0)\n",
    "\n",
    "sub_id = data['id'][train_len:]\n",
    "del data['id']\n",
    "\n",
    "data['date'] = data['date'].apply(lambda x : str(x[:6])).astype(int)\n",
    "\n",
    "#--------------------------------------------------------------------------------------------------------------------------------------\n",
    "skew_columns = ['bedrooms', 'sqft_living', 'sqft_lot', 'sqft_above', 'sqft_basement']\n",
    "\n",
    "for c in skew_columns:\n",
    "    data[c] = np.log1p(data[c].values)\n",
    "\n",
    "#--------------------------------------------------------------------------------------------------------------------------------------\n",
    "y_log_transformation = np.log1p(y)\n",
    "\n",
    "sub = data.iloc[train_len:, :] # 테스트 데이터\n",
    "x = data.iloc[:train_len, :] # 학습 데이터\n",
    "\n",
    "print(x.shape)\n",
    "print(sub.shape)\n"
   ],
   "metadata": {
    "id": "y1UFAEeqcSU8",
    "ExecuteTime": {
     "end_time": "2024-05-03T17:00:00.021099Z",
     "start_time": "2024-05-03T16:59:59.629405Z"
    }
   },
   "outputs": [
    {
     "name": "stdout",
     "output_type": "stream",
     "text": [
      "(15035, 19)\n",
      "(6468, 19)\n"
     ]
    }
   ],
   "execution_count": 3
  },
  {
   "cell_type": "code",
   "source": [
    "#--------------------------------------------------------------------------------------------------------------------------------------\n",
    "gboost = GradientBoostingRegressor(random_state=2023)\n",
    "xgboost = xgb.XGBRegressor(random_state=2023)\n",
    "lightgbm = lgb.LGBMRegressor(random_state=2023)\n",
    "\n",
    "models = [{'model':gboost, 'name':'GradientBoosting'}, {'model':xgboost, 'name':'XGBoost'},\n",
    "          {'model':lightgbm, 'name':'LightGBM'}]\n",
    "\n",
    "#--------------------------------------------------------------------------------------------------------------------------------------\n",
    "def get_cv_score(models):\n",
    "    kfold = KFold(n_splits=5).get_n_splits(x.values)\n",
    "    for m in models:\n",
    "        CV_score = np.mean(cross_val_score(m['model'], X=x.values, y=y, cv=kfold))\n",
    "        print(f\"Model: {m['name']}, CV score:{CV_score:.4f}\")\n",
    "\n",
    "get_cv_score(models)\n"
   ],
   "metadata": {
    "id": "eXgg7Z5Sxm5-"
   },
   "execution_count": null,
   "outputs": []
  },
  {
   "cell_type": "code",
   "source": [
    "#--------------------------------------------------------------------------------------------------------------------------------------\n",
    "def AveragingBlending(models, x, y, sub_x):\n",
    "    # 모델학습\n",
    "    for m in models :\n",
    "        m['model'].fit(x.values, y)\n",
    "\n",
    "    # 모델예측\n",
    "    predictions = np.column_stack([\n",
    "        m['model'].predict(sub_x.values) for m in models\n",
    "    ])\n",
    "\n",
    "    # 각 모델 에측의 평균을 return\n",
    "    return np.mean(predictions, axis=1)\n",
    "\n",
    "y_pred = AveragingBlending(models, x, y, sub)\n",
    "print(len(y_pred))\n",
    "y_pred"
   ],
   "metadata": {
    "id": "GcswTX8fxrpj"
   },
   "execution_count": null,
   "outputs": []
  },
  {
   "cell_type": "markdown",
   "source": [
    "## 1. 하이퍼 파라미터 튜닝\n",
    "\n",
    "- 모델 성능을 평가하기 위한 지표를 구현합니다.\n",
    "- 더 높은 성능을 가진 머신러닝 모델을 만들기 위해 하이퍼 파라미터를 활용합니다.\n",
    "- 튜닝한 결과를 모델에 저장하고, 학습 후 예측 결과를 생성합니다."
   ],
   "metadata": {
    "id": "yoxcrj0Ce7Xt"
   }
  },
  {
   "cell_type": "markdown",
   "source": [
    "이제부터는 제공된 베이스라인 모델이 아닌 우리 스스로 모델을 만들어 보도록 하겠습니다. 일단 베이스라인에서 모델 학습을 진행하였고 전처리도 진행하였기 때문에 이는 그대로 가보려고 합니다.\n",
    "\n",
    "`price`인 `y`는 지난번 살펴본 것처럼 그 분포가 왼쪽으로 크게 치우져 있었기 때문에 [`np.log1p()`](https://numpy.org/doc/stable/reference/generated/numpy.log1p.html) 함수를 이용하여 로그변환을 해주고 모델 에측이 끝났을 때 그 역함수인 [`np.expm1()`](https://numpy.org/doc/stable/reference/generated/numpy.expm1.html)을 이용하여 돌려 놓겠습니다."
   ],
   "metadata": {
    "id": "vnaTtMX4yH0r"
   }
  },
  {
   "cell_type": "code",
   "source": [
    "train = x # 기존 학습 데이터를 train으로\n",
    "test = sub # 기존 테스트 데이터를 test로\n",
    "y = np.log1p(y) # y값(price)의 로그변환"
   ],
   "metadata": {
    "id": "dPiKB-SGflZP"
   },
   "execution_count": null,
   "outputs": []
  },
  {
   "cell_type": "markdown",
   "source": [
    "### 1_ RMSE 계산함수 만들기\n",
    "\n",
    "RMSE를 계산하는 함수를 만들어 보겠습니다. `sklearn` 패키지를 활용할 것 입니다. 먼저 [`train_test_split`](https://scikit-learn.org/stable/modules/generated/sklearn.model_selection.train_test_split.html)과 [`mean_squared_error`](https://scikit-learn.org/stable/modules/generated/sklearn.metrics.mean_squared_error.html)를 가져옵니다."
   ],
   "metadata": {
    "id": "cnh4xQFYfnDi"
   }
  },
  {
   "cell_type": "code",
   "source": [
    "from sklearn.model_selection import train_test_split\n",
    "from sklearn.metrics import mean_squared_error"
   ],
   "metadata": {
    "id": "ard33Ap3forQ"
   },
   "execution_count": null,
   "outputs": []
  },
  {
   "cell_type": "markdown",
   "source": [
    "한 가지 주의해야 할 것은 아래의 `y_test`나 `y_pred`는 위에서 `np.log1p()`로 변환된 값이기 때문에 원래 데이터의 단위에 맞게 되돌리기 위해 `np.expm1()`을 추가해야 한다는 점 입니다.\n",
    "따라서 RMSE를 구하는 함수는 다음과 같습니다."
   ],
   "metadata": {
    "id": "mmRj5iVsfp2U"
   }
  },
  {
   "cell_type": "code",
   "source": [
    "def rmse(y_test, y_pred):\n",
    "    return np.sqrt(mean_squared_error(np.expm1(y_test), np.expm1(y_pred)))"
   ],
   "metadata": {
    "id": "ppxRGeLOfrGi"
   },
   "execution_count": null,
   "outputs": []
  },
  {
   "cell_type": "markdown",
   "source": [
    "다음으로 `XGBRegressor`, `LGBMRegressor`,`GradientBoostingRegressor`, `RandomForestRegressor` 네 가지 모델을 가져오겠습니다."
   ],
   "metadata": {
    "id": "R2apUgy7fs-E"
   }
  },
  {
   "cell_type": "code",
   "source": [
    "from xgboost import XGBRegressor\n",
    "from lightgbm import LGBMRegressor\n",
    "from sklearn.ensemble import GradientBoostingRegressor, RandomForestRegressor"
   ],
   "metadata": {
    "id": "1vSZeuqzfuxU"
   },
   "execution_count": null,
   "outputs": []
  },
  {
   "cell_type": "markdown",
   "source": [
    "아래와 같이 모델 인스턴스를 생성한 후 models라는 리스트에 넣어줍니다."
   ],
   "metadata": {
    "id": "lyu6OvN1fv9K"
   }
  },
  {
   "cell_type": "code",
   "source": [
    "# random_state는 모델초기화나 데이터셋 구성에 사용되는 랜덤 시드값입니다.\n",
    "# random_state=None    # 이게 초기값입니다. 아무것도 지정하지 않고 None을 넘겨주면 모델 내부에서 임의로 선택합니다.\n",
    "random_state=2023        # 하지만 우리는 이렇게 고정값을 세팅해 두겠습니다.\n",
    "\n",
    "gboost = GradientBoostingRegressor(random_state=random_state)\n",
    "xgboost = XGBRegressor(random_state=random_state)\n",
    "lightgbm = LGBMRegressor(random_state=random_state)\n",
    "rdforest = RandomForestRegressor(random_state=random_state)\n",
    "\n",
    "models = [gboost, xgboost, lightgbm, rdforest]"
   ],
   "metadata": {
    "id": "AweCVW9VfwV2"
   },
   "execution_count": null,
   "outputs": []
  },
  {
   "cell_type": "markdown",
   "source": [
    "이때, 모델 파라미터 초기화나 데이터셋 구성에 사용되는 랜덤 시드값인 random_state 값을 특정 값으로 고정시키거나 지정하지 않고 None으로 세팅할 수 있습니다. random_state를 고정값으로 주면 모델과 데이터셋이 동일한 경우 머신러닝 학습결과도 항상 동일하게 재현됩니다. 하지만 이 값을 지정하지 않고 None으로 남겨 두면 모델 내부에서 랜덤 시드값을 임의로 선택하기 때문에, 결과적으로 파라미터 초기화나 데이터셋 구성 양상이 달라져서 모델과 데이터셋이 동일하더라도 머신러닝 학습결과는 학습할 때마다 달라집니다.\n",
    "\n",
    "앞으로 우리는 베이스라인에서부터 시작해서 다양한 실험을 통해 성능이 개선되는지를 검증해 보려고 합니다. 이때, 어떤 시도가 모델 성능 향상에 긍정적이었는지 여부를 판단하기 위해서는 랜덤적 요소의 변화 때문에 생기는 불확실성을 제거해야 합니다. 따라서 아래와 같이 random_state 값을 특정 값으로 고정시킬 것입니다."
   ],
   "metadata": {
    "id": "llHAaim8fx8t"
   }
  },
  {
   "cell_type": "markdown",
   "source": [
    "### 2_ 스코어를 출력하는 함수 만들기\n",
    "\n",
    "아래의 코드는 위에서 만들어둔 모델을 순환하면서 그 결과를 `score_df`라는 DataFrame으로 반환하는 함수입니다. `get_score`함수이고 함수 파라미터로 다음을 받습니다.\n",
    "\n",
    "`def get_scores(models, train, y)`\n",
    "- `models` : model을 가지고 있는 list\n",
    "- `train` : 학습 데이터 (함수 내부에서 validation 데이터로도 나뉨)\n",
    "- `y` : 학습할 때 사용할 정답 레이블 데이터"
   ],
   "metadata": {
    "id": "COdVaG2Hfzgm"
   }
  },
  {
   "cell_type": "code",
   "source": [
    "def get_scores(models, train, y):\n",
    "    df = {} # 결과 저장을 위한 table 생성\n",
    "    for model in models: # 모델명 추출\n",
    "        model_name = model.__class__.__name__\n",
    "        # 0.2만 validation에 사용\n",
    "        X_train, X_val, y_train, y_val = train_test_split(train, y, random_state=random_state, test_size=0.2)\n",
    "\n",
    "        # 모델학습\n",
    "        model.fit(X_train, y_train)\n",
    "\n",
    "        #학습된 모델 테스트\n",
    "        y_pred = model.predict(X_val)\n",
    "\n",
    "        # rmse를 이용한 계산\n",
    "        df[model_name] = rmse(y_val, y_pred)\n",
    "\n",
    "        # 테이블을 DataFrame으로 변환\n",
    "        score_df = pd.DataFrame(df, index=['RMSE']).T.sort_values('RMSE', ascending=False)\n",
    "    return score_df"
   ],
   "metadata": {
    "id": "GWB8LMHqf5LO"
   },
   "execution_count": null,
   "outputs": []
  },
  {
   "cell_type": "markdown",
   "source": [
    "### [TODO] 3_ 실험하기"
   ],
   "metadata": {
    "id": "cc293BUC4gw9"
   }
  },
  {
   "cell_type": "markdown",
   "source": [
    "이제 우리가 RMSE로 결과를 만들어주는 함수가 준비되었으니 다양한 하이퍼 파라미터로 실험하는 일만 남았습니다.\n",
    "\n",
    "실험은 `sklearn.model_selection` 라이브러리 안에 있는 `GridSearchCV` 클래스를 활용합니다.\n",
    "다음 함수를 import 해주세요!"
   ],
   "metadata": {
    "id": "4d0IHeLKf6tx"
   }
  },
  {
   "cell_type": "code",
   "source": [
    "from sklearn.model_selection import GridSearchCV"
   ],
   "metadata": {
    "id": "I7IbpMxpf74p"
   },
   "execution_count": null,
   "outputs": []
  },
  {
   "cell_type": "markdown",
   "source": [
    "`GridSearchCV`란 무엇일까요?\n",
    "\n",
    "우선 그리드 탐색과 랜덤 탐색을 알아볼 필요가 있습니다. 두 가지 모두 하이퍼 파라미터를 조합해 보는 방법입니다.\n",
    "\n",
    "* 그리드 탐색은 사람이 먼저 탐색할 하이퍼 파라미터의 값들을 정해두고, 그 값들로 만들어질 수 있는 모든 조합을 탐색합니다. 특정 값에 대한 하이퍼 파라미터 조합을 모두 탐색하고자 할 때 유리하겠네요!\n",
    "\n",
    "* 랜덤 탐색은 사람이 탐색할 하이퍼 파라미터의 공간만 정해두고, 그 안에서 랜덤으로 조합을 선택해서 탐색하는 방법입니다.\n",
    "\n",
    "그리드 탐색에서는 사람이 정해둔 값들로 이루어지는 조합만 탐색하기 때문에 최적의 조합을 놓칠 수 있는 반면, 랜덤 탐색에서는 말 그대로 랜덤으로 탐색하기 때문에 최적의 조합을 찾을 수 있는 가능성이 언제나 열려 있습니다. 하지만 그 가능성 또한 랜덤성에 의존하기 때문에 언제나 최적을 찾는다는 보장은 없어요.\n",
    "\n",
    "다음 이미지가 그리드 탐색(grid search)과 랜덤 탐색(random search) 두 가지를 잘 나타내고 있습니다.\n",
    "그리드 탐색은 정해진 하이퍼 파라미터의 조합을 격자와 같이 탐색하는 반면, 랜덤 탐색은 랜덤으로 점을 찍어서 탐색합니다.\n",
    "\n",
    "확실히 그리드 탐색의 탐색 공간은 매우 제한적인 반면 랜덤 탐색은 탐색하는 공간이 훨씬 넓습니다."
   ],
   "metadata": {
    "id": "NSBUYq1_f9Fr"
   }
  },
  {
   "cell_type": "markdown",
   "source": [
    "![캐글 그리드서치.png](data:image/png;base64,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)"
   ],
   "metadata": {
    "id": "X_SzGEa4gFOq"
   }
  },
  {
   "cell_type": "markdown",
   "source": [
    "> 그림설명 : [Bergstra, J., Bengio, Y.: Random search for hyper-parameter optimization. Journal of Machine Learning Research 13, 281–305 (2012), 다음의 블로그에서 재인용]"
   ],
   "metadata": {
    "id": "I1WU2NfAgHNm"
   }
  },
  {
   "cell_type": "markdown",
   "source": [
    "우리는 앞서 언급했듯 다양한 파라미터를 입력하면 가능한 모든 조합을 탐색하는 사이킷런의 `GridSearchCV`를 활용해 볼 것입니다.\n",
    "\n",
    "먼저 `GridSearchCV`에 입력되는 인자들은 다음과 같습니다.\n",
    "\n",
    "- `param_grid` : 탐색할 파라미터의 종류 (딕셔너리로 입력)\n",
    "- `scoring` : 모델의 성능을 평가할 지표\n",
    "- `cv` : cross validation을 수행하기 위해 train 데이터셋을 나누는 조각의 개수\n",
    "- `verbose` : 그리드 탐색을 진행하면서 진행 과정을 출력해서 보여줄 메세지의 양 (숫자가 클수록 더 많은 메세지를 출력합니다.)\n",
    "- `n_jobs` : 그리드 탐색을 진행하면서 사용할 CPU의 개수"
   ],
   "metadata": {
    "id": "GF-fY3DDgIYR"
   }
  },
  {
   "cell_type": "markdown",
   "source": [
    "그러면 param_grid에 탐색할 xgboost 관련 하이퍼 파라미터를 넣어서 준비하겠습니다."
   ],
   "metadata": {
    "id": "ua5dO01sgJp2"
   }
  },
  {
   "cell_type": "code",
   "source": [
    "param_grid = {\n",
    "    'n_estimators': [50, 100],\n",
    "    'max_depth': [1, 10],\n",
    "}"
   ],
   "metadata": {
    "id": "PTTdv4YogKff"
   },
   "execution_count": null,
   "outputs": []
  },
  {
   "cell_type": "markdown",
   "source": [
    "그다음으로 모델을 준비합니다. 모델은 LightGBM(lgbm)를 사용해봅시다."
   ],
   "metadata": {
    "id": "lozwG6b-gLx7"
   }
  },
  {
   "cell_type": "code",
   "source": [
    "model = LGBMRegressor(random_state=random_state)"
   ],
   "metadata": {
    "id": "034YJUIygMsJ"
   },
   "execution_count": null,
   "outputs": []
  },
  {
   "cell_type": "markdown",
   "source": [
    "그러면 `model`, `param_grid`와 함께 다른 여러 가지 인자를 넣어서 `GridSearchCV`를 수행할 수 있습니다!\n",
    "\n",
    "다음과 같이 `GridSearchCV`를 이용해서 `grid_model` 모델을 초기화하고, `train`과 `y` 데이터로 모델을 간단히 학습시키면 `param_grid` 내의 모든 하이퍼 파라미터의 조합에 대해 실험이 완료됩니다."
   ],
   "metadata": {
    "id": "SKPBYGVGgOU_"
   }
  },
  {
   "cell_type": "code",
   "source": [
    "grid_model = GridSearchCV(model, param_grid=param_grid, \\\n",
    "                        scoring='neg_mean_squared_error', \\\n",
    "                        cv=5, verbose=1, n_jobs=5)\n",
    "\n",
    "grid_model.fit(x, y)"
   ],
   "metadata": {
    "id": "8eMIcL-ugPq9"
   },
   "execution_count": null,
   "outputs": []
  },
  {
   "cell_type": "markdown",
   "source": [
    "이제 `grid_model.fit` 함수를 통해서 4가지 조합에 대한 실험을 모두 마쳤습니다.\n",
    "\n",
    "실험에 대한 결과는 다음과 같이 `grid_model.cv_results_` 안에 저장됩니다."
   ],
   "metadata": {
    "id": "ALUoQkbegTDW"
   }
  },
  {
   "cell_type": "code",
   "source": [
    "grid_model.cv_results_"
   ],
   "metadata": {
    "id": "9fGNg-LugU5r"
   },
   "execution_count": null,
   "outputs": []
  },
  {
   "cell_type": "markdown",
   "source": [
    "정보가 너무 많아서 눈에 잘 들어오지 않으니 원하는 값만 정제해서 확인하도록 하겠습니다.\n",
    "\n",
    "우리가 관심 있는 정보는 어떤 파라미터 조합일 때 점수가 어떻게 나오게 되는지에 관한 것이겠죠.\n",
    "파라미터 조합은 위 딕셔너리 중 `params`에, 각각에 대한 테스트 점수는 `mean_test_score`에 저장되어 있습니다.\n",
    "\n",
    "이 두 정보만 빼내어 보겠습니다."
   ],
   "metadata": {
    "id": "cPGKnRNrgTHA"
   }
  },
  {
   "cell_type": "code",
   "source": [
    "params = grid_model.cv_results_['params']\n",
    "params"
   ],
   "metadata": {
    "id": "n5c10DD0gXrm"
   },
   "execution_count": null,
   "outputs": []
  },
  {
   "cell_type": "code",
   "source": [
    "score = grid_model.cv_results_['mean_test_score']\n",
    "score"
   ],
   "metadata": {
    "id": "rlBfgYYjgYp4"
   },
   "execution_count": null,
   "outputs": []
  },
  {
   "cell_type": "markdown",
   "source": [
    "**데이터 프레임 합쳐서 표현해 보기**\n",
    "\n",
    "`params`에는 각 파라미터의 조합이, `score`에는 각 조합에 대한 점수가 들어가 있군요.\n",
    "\n",
    "이제 이 둘만 가지고 데이터 프레임을 만들고 최적의 성능을 내는 하이퍼 파라미터의 조합을 찾아봅시다.\n",
    "\n",
    "다음과 같은 형태의 데이터 프레임을 출력하는 코드를 작성해 보겠습니다.\n"
   ],
   "metadata": {
    "id": "riIFWsVjgZ0-"
   }
  },
  {
   "cell_type": "code",
   "source": [
    "results = pd.DataFrame(params)\n",
    "results['score'] = score\n",
    "\n",
    "results"
   ],
   "metadata": {
    "id": "WK77oVcqgclp"
   },
   "execution_count": null,
   "outputs": []
  },
  {
   "cell_type": "markdown",
   "source": [
    "자, 그런데 여기에서 한 가지 의문이 드는 것이 있습니다. 왜 점수는 음수일까요?!\n",
    "\n",
    "그 이유는 바로 GridSearchCV을 초기화 한 코드에 힌트가 있습니다.\n",
    "우리가 위에서 GridSearchCV로 grid_model 모델을 초기화할 때, scoring 인자에 무엇을 넣었는지 기억하시나요?\n",
    "\n",
    "`GridSearchCV`를 사용할 때에는 이 외에도 다양한 점수 체계(scoring)를 사용할 수 있습니다. 그에 대한 정보는 다음 페이지에서 확인하겠습니다.\n",
    "\n",
    "- [사이킷런 - The scoring parameter: defining model evaluation rules](https://scikit-learn.org/stable/modules/model_evaluation.html#scoring-parameter)"
   ],
   "metadata": {
    "id": "YMZ7yaAFgd6P"
   }
  },
  {
   "cell_type": "markdown",
   "source": [
    "우리는 현재 Regression 문제를 풀고 있기 때문에 그에 알맞은 성능 평가 지표를 사용하였습니다.\n",
    "우리가 사용한 것이 `neg_mean_squared_error`를 사용했기 때문에 점수가 음수로 표현되는 것이죠!\n",
    "\n",
    "아래와 같은 간단한 변환 함수로 RMSE 점수를 볼 수 있도록 하겠습니다.\n",
    "음수로 된 MSE였으니, -1을 곱해주고 np.sqrt로 루트 연산을 해주면 되겠죠."
   ],
   "metadata": {
    "id": "2v4HK4jpgkRV"
   }
  },
  {
   "cell_type": "code",
   "source": [
    "results['RMSE'] = np.sqrt(-1 * results['score'])\n",
    "results"
   ],
   "metadata": {
    "id": "g6bxc8zRgmI6"
   },
   "execution_count": null,
   "outputs": []
  },
  {
   "cell_type": "markdown",
   "source": [
    "앗, 하지만 아직도 위에서 보았던 10만 단위의 RMSE와는 값의 크기가 아주 다른 것 같습니다.\n",
    "\n",
    "그 이유는 `price`에 있습니다. 위에서 우리는 `price`의 분포가 한쪽으로 치우쳐져 있는 것을 보고 log 변환을 했었죠.\n",
    "그 후 rmse 값을 계산하기 위한 함수에서는 `np.expm1` 함수를 활용해 다시 원래대로 복원한 후 RMSE 값을 계산했습니다.\n",
    "\n",
    "하지만 그리드 탐색을 하면서는 `np.expm1()`으로 변환하는 과정이 없었기 때문에 log 변환되어 있는 `price` 데이터에서 손실함수값을 계산한 것이죠.\n",
    "따라서 사실, 위의 데이터 프레임에 나타난 값은 정확히 말하면 RMSE가 아니라 RMSLE, 즉 Root Mean Squared Log Error 입니다.\n",
    "log를 취한 값에서 RMSE를 구했다는 뜻이죠!"
   ],
   "metadata": {
    "id": "HgyjrH2XgnXj"
   }
  },
  {
   "cell_type": "markdown",
   "source": [
    "**RMSE 컬럼명 바꾸기**\n",
    "\n",
    "`RMSE` 컬럼의 이름을 RMSLE로 변환해 주도록 하겠습니다. 판다스에서 컬럼의 이름 변환은 [rename](https://pandas.pydata.org/docs/reference/api/pandas.DataFrame.rename.html)으로 할 수 있습니다. 아래에 코드를 작성하고 출력해보세요."
   ],
   "metadata": {
    "id": "pAvuVrfHhEzh"
   }
  },
  {
   "cell_type": "code",
   "source": [
    "# 미션 : RMSE 컬럼명을 바꿔보세요.\n",
    "\n",
    "##############################################\n",
    "#### 코드리뷰 1-1. 알맞은 코드를 직접 작성해보세요! ####\n",
    "##############################################\n",
    "\n",
    "results = ... # '...'에 코드작성\n",
    "results"
   ],
   "metadata": {
    "id": "-77J7XzIhJJd"
   },
   "execution_count": null,
   "outputs": []
  },
  {
   "cell_type": "markdown",
   "source": [
    "이제 마지막 할 일은 RMSLE가 낮은 순서대로 정렬하는 것뿐이군요!"
   ],
   "metadata": {
    "id": "d-kt4o-hhUEC"
   }
  },
  {
   "cell_type": "markdown",
   "source": [
    "**RMSLE를 낮은 순서대로 정렬하기**\n",
    "sort_values로 간단히 할 수 있습니다. 공식 문서를 참고해 직접 작성해 보세요."
   ],
   "metadata": {
    "id": "bGAcMw_vhUdp"
   }
  },
  {
   "cell_type": "code",
   "source": [
    "# 미션 : results 데이터 프레임에서 RMSLE가 낮은 순으로 정렬해보세요.\n",
    "\n",
    "##############################################\n",
    "#### 코드리뷰 1-2. 알맞은 코드를 직접 작성해보세요! ####\n",
    "##############################################\n",
    "\n",
    "results = ... # '...' 에 코드 작성\n",
    "results"
   ],
   "metadata": {
    "id": "pSY4KduShX15"
   },
   "execution_count": null,
   "outputs": []
  },
  {
   "cell_type": "markdown",
   "source": [
    "### [TODO] 4_ 정리하기\n",
    "\n",
    "지금까지의 `GridSearchCV`를 통해 진행한 내용들을 간단히 함수로 만들어 보도록 하겠습니다.\n",
    "\n",
    "다음과 같은 과정을 진행할 수 있는 `my_GridSearch(model, train, y, param_grid, verbose=2, n_jobs=5)` 함수를 구현해 보세요.\n",
    "\n",
    "1. GridSearchCV 모델로 `model`을 초기화합니다.\n",
    "2. 모델을 fitting 합니다.\n",
    "3. params, score에 각 조합에 대한 결과를 저장합니다.\n",
    "4. 데이터 프레임을 생성하고, RMSLE 값을 추가한 후 점수가 높은 순서로 정렬한 `results`를 반환합니다."
   ],
   "metadata": {
    "id": "OdUwNByjhjYR"
   }
  },
  {
   "cell_type": "code",
   "source": [
    "## 미션 : GridSearchCV 를 통해 진행한 내용을 함수로 만들어보세요.\n",
    "\n",
    "##############################################\n",
    "#### 코드리뷰 1-3. 알맞은 코드를 직접 작성해보세요! ####\n",
    "##############################################\n",
    "\n",
    "def my_GridSearch(model, train, y, param_grid, verbose=2, n_jobs=5):\n",
    "    # GridSearchCV 모델로 초기화\n",
    "    grid_model = GridSearchCV(model, param_grid=param_grid, scoring='neg_mean_squared_error', \\\n",
    "                              cv=5, verbose=verbose, n_jobs=n_jobs)\n",
    "\n",
    "    # 모델 fitting\n",
    "    grid_model.fit(train, y)\n",
    "\n",
    "    # 결과값 저장\n",
    "    params = ... # '...' 에 코드 작성\n",
    "    score = ... # '...' 에 코드 작성\n",
    "\n",
    "    # 데이터 프레임 생성\n",
    "    results = pd.DataFrame(params)\n",
    "    results['score'] = ... # '...'에 코드 작성\n",
    "\n",
    "    # RMSLE 값 계산\n",
    "    results['RMSLE'] = ... # '...'에 코드작성\n",
    "\n",
    "    # RMSLE 값으로 정렬\n",
    "    results = ...\n",
    "    results = ... # '...'에 코드작성\n",
    "\n",
    "    return results"
   ],
   "metadata": {
    "id": "roQCC8IDhoX5"
   },
   "execution_count": null,
   "outputs": []
  },
  {
   "cell_type": "markdown",
   "source": [
    "## 2. 대회 참여하기\n",
    "- 예측 결과를 대회에 제출하고, Public Score를 확인합니다."
   ],
   "metadata": {
    "id": "3ErEUQ0ehxy4"
   }
  },
  {
   "cell_type": "markdown",
   "source": [
    "이제 실험에 대한 준비는 모두 끝났습니다! 실험을 통해 좋은 결과를 내는 모델을 찾았다면 제출을 해봐야겠죠. 제출 과정 또한 하나의 함수로 깔끔하게 진행하겠습니다.\n",
    "\n",
    "먼저 여러분이 만들어놓은 `my_GridSearch()` 함수로 간단한 그리드 탐색을 해보겠습니다."
   ],
   "metadata": {
    "id": "tfxuTefY4TPI"
   }
  },
  {
   "cell_type": "code",
   "source": [
    "param_grid = {\n",
    "    'n_estimators': [50, 100],\n",
    "    'max_depth': [1, 10],\n",
    "}\n",
    "\n",
    "model = LGBMRegressor(random_state=random_state)\n",
    "my_GridSearch(model, train, y, param_grid, verbose=2, n_jobs=5)"
   ],
   "metadata": {
    "id": "qiWsXRNVh2BJ"
   },
   "execution_count": null,
   "outputs": []
  },
  {
   "cell_type": "markdown",
   "source": [
    "가장 좋은 조합은 `max_depth=10`, `n_estimators=100` 이군요.\n",
    "해당 모델로 학습을 해서 예측값인 `submission.csv` 파일을 만들어서 제출해보겠습니다.\n",
    "\n",
    "먼저 해당 파라미터로 구성된 모델을 준비하고, 학습 후 예측 결과를 생성합니다."
   ],
   "metadata": {
    "id": "CqA8U-Obh3P0"
   }
  },
  {
   "cell_type": "code",
   "source": [
    "model = LGBMRegressor(max_depth=10, n_estimators=100, random_state=random_state)\n",
    "model.fit(train, y)\n",
    "prediction = model.predict(test)\n",
    "prediction"
   ],
   "metadata": {
    "id": "52fNiNa_h4Mu"
   },
   "execution_count": null,
   "outputs": []
  },
  {
   "cell_type": "markdown",
   "source": [
    "앗, 예측 결과에 `np.expm1()`을 씌워서 다시 원래 스케일로 되돌리는 것도 잊으면 안 되겠죠!"
   ],
   "metadata": {
    "id": "FX1G4G_Uh5Pr"
   }
  },
  {
   "cell_type": "code",
   "source": [
    "prediction = np.expm1(prediction)\n",
    "prediction"
   ],
   "metadata": {
    "id": "C6iM10fCh6Kx"
   },
   "execution_count": null,
   "outputs": []
  },
  {
   "cell_type": "markdown",
   "source": [
    "샘플로 제공받은 `sample_submission.csv` 파일을 로드해보겠습니다. 거기에 덮어씌우면 되기 때문입니다."
   ],
   "metadata": {
    "id": "kw2HHyC-h7aj"
   }
  },
  {
   "cell_type": "code",
   "source": [
    "submission_path = './data/sample_submission.csv'\n",
    "submission = pd.read_csv(submission_path)\n",
    "submission.head()"
   ],
   "metadata": {
    "id": "qGqvYYT3h81w"
   },
   "execution_count": null,
   "outputs": []
  },
  {
   "cell_type": "markdown",
   "source": [
    "위의 데이터프레임에 우리의 모델이 예측한 값을 덮어씌우겠습니다."
   ],
   "metadata": {
    "id": "1iPFBnLFh-V6"
   }
  },
  {
   "cell_type": "code",
   "source": [
    "submission['price'] = prediction\n",
    "submission.head()"
   ],
   "metadata": {
    "id": "qpmB297Mh_TR"
   },
   "execution_count": null,
   "outputs": []
  },
  {
   "cell_type": "markdown",
   "source": [
    "위의 데이터를 csv 파일로 저장하겠습니다.\n",
    "\n",
    "단, 앞으로는 많은 실험이 있을 예정이니 파일 이름에 모델의 종류와 위에서 확인했던 RMSLE 값을 넣어주면 제출 파일들이 깔끔하게 관리될 것입니다!"
   ],
   "metadata": {
    "id": "d-cy4hu4iAZc"
   }
  },
  {
   "cell_type": "code",
   "source": [
    "submission_csv_path = '{}/submission_{}_RMSLE_{}.csv'.format('./data', 'lgbm', '0.164399')\n",
    "submission.to_csv(submission_csv_path, index=False)\n",
    "print(submission_csv_path)"
   ],
   "metadata": {
    "id": "6u66kBRMiBME"
   },
   "execution_count": null,
   "outputs": []
  },
  {
   "cell_type": "markdown",
   "source": [
    "위의 과정들도 하나의 함수로 정리해두면 사용하기 편리하겠죠."
   ],
   "metadata": {
    "id": "ZN_3cCJfiCsh"
   }
  },
  {
   "cell_type": "code",
   "source": [
    "\"\"\"\n",
    "아래의 과정을 수행하는 `save_submission(model, train, y, test, model_name, rmsle)` 함수.\n",
    "1. 모델을 `train`, `y`로 학습시킵니다.\n",
    "2. `test`에 대해 예측합니다.\n",
    "3. 예측값을 `np.expm1`으로 변환하고, `submission_model_name_RMSLE_100000.csv` 형태의 `csv` 파일을 저장합니다.\n",
    "\"\"\"\n",
    "\n",
    "def save_submission(model, train, y, test, model_name, rmsle=None):\n",
    "    model.fit(train, y)\n",
    "    prediction = model.predict(test)\n",
    "    prediction = np.expm1(prediction)\n",
    "    data_dir = './data'\n",
    "    submission_path = join(data_dir, 'sample_submission.csv')\n",
    "    submission = pd.read_csv(submission_path)\n",
    "    submission['price'] = prediction\n",
    "    submission_csv_path = '{}/submission_{}_RMSLE_{}.csv'.format(data_dir, model_name, rmsle)\n",
    "    submission.to_csv(submission_csv_path, index=False)\n",
    "    print('{} saved!'.format(submission_csv_path))"
   ],
   "metadata": {
    "id": "5DhgJKIOiDrs"
   },
   "execution_count": null,
   "outputs": []
  },
  {
   "cell_type": "markdown",
   "source": [
    "이 함수를 사용한다면 다음 한 줄로 모델을 학습시킨 후 예측 결과를 저장할 수 있습니다."
   ],
   "metadata": {
    "id": "ZaPmgbyb1d9_"
   }
  },
  {
   "cell_type": "code",
   "source": [
    "save_submission(model, train, y, test, 'lgbm', rmsle='0.164399')"
   ],
   "metadata": {
    "id": "BCmee4L01efh"
   },
   "execution_count": null,
   "outputs": []
  },
  {
   "cell_type": "markdown",
   "source": [
    "### [TODO] 5_ 제출결과 확인하기\n",
    "\n",
    "여러분이 제출한 Public Score는 몇점이신가요? 이 대회는 지난 대회이기 때문에 여러분의 결과가 Leaderboard에 등록되지 않습니다. 그러나 여러분의 결과가 어느정도 순위인지 Leaderboard를 통해서 직접 확인해 보실 수는 있습니다."
   ],
   "metadata": {
    "id": "ZpC12WC65wJn"
   }
  },
  {
   "cell_type": "code",
   "source": [
    "# 미션 : 아래에 Public Score를 기록하여 제출해보세요.\n",
    "\n",
    "print(...)"
   ],
   "metadata": {
    "id": "Ud8JV0en515I"
   },
   "execution_count": null,
   "outputs": []
  },
  {
   "cell_type": "markdown",
   "source": [
    "## 3. 코드리뷰 프로젝트 제출하기\n",
    "\n",
    "- 수행한 프로젝트 내용을 확인하고, 전체 코드를 파이썬 파일(.py)로 저장합니다.\n",
    "- 다운로드 받은 .py 파일을 zip으로 압축 및 제출하여 수행여부를 증빙합니다.\n",
    "- 이번 차시에 궁금한 점이 있다면, 본문에 내용을 함께 작성하여 제출할 수 있습니다."
   ],
   "metadata": {
    "id": "H-_qVXxZ6RTV"
   }
  },
  {
   "cell_type": "markdown",
   "source": [
    "ALL RIGHTS RESERVED. (C)NAVER Connect Foundation."
   ],
   "metadata": {
    "id": "qiOuiC8f1hwn"
   }
  }
 ]
}
