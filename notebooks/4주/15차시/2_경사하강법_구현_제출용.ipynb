{
  "nbformat": 4,
  "nbformat_minor": 0,
  "metadata": {
    "colab": {
      "provenance": [],
      "include_colab_link": true
    },
    "kernelspec": {
      "name": "python3",
      "display_name": "Python 3"
    },
    "language_info": {
      "name": "python"
    }
  },
  "cells": [
    {
      "cell_type": "markdown",
      "metadata": {
        "id": "view-in-github",
        "colab_type": "text"
      },
      "source": [
        "<a href=\"https://colab.research.google.com/github/minsmis/NaverAI/blob/main/notebooks/4%EC%A3%BC/15%EC%B0%A8%EC%8B%9C/2_%EA%B2%BD%EC%82%AC%ED%95%98%EA%B0%95%EB%B2%95_%EA%B5%AC%ED%98%84_%EC%A0%9C%EC%B6%9C%EC%9A%A9.ipynb\" target=\"_parent\"><img src=\"https://colab.research.google.com/assets/colab-badge.svg\" alt=\"Open In Colab\"/></a>"
      ]
    },
    {
      "cell_type": "markdown",
      "source": [
        "# [코드리뷰 프로젝트] 2. 경사하강법 구현"
      ],
      "metadata": {
        "id": "wjSFTJzCNeK8"
      }
    },
    {
      "cell_type": "markdown",
      "source": [
        "## 1. 경사하강법\n",
        "- 선형 회귀 모델을 구현하기 위한 데이터를 확인하고, 알맞은 형태로 분리합니다.\n",
        "- 분리한 데이터를 활용해 train, weight, bias를 정의합니다.\n",
        "- 경사하강법 구현을 위한 학습 루프를 만들고, 100회 반복해 결과를 출력합니다."
      ],
      "metadata": {
        "id": "kO9rnzsWOHgC"
      }
    },
    {
      "cell_type": "markdown",
      "source": [
        "### [TODO] 1_ 데이터 분리"
      ],
      "metadata": {
        "id": "d3FJjaifHlir"
      }
    },
    {
      "cell_type": "code",
      "source": [
        "# 미션 : 아래와 같은 출력 결과가 나타나도록 코드를 작성해보세요.\n",
        "\n",
        "##############################################\n",
        "#### 코드리뷰 2-1. 알맞은 코드를 직접 작성해보세요! ####\n",
        "##############################################\n",
        "\n",
        "# 프로그램 실행 예시\n",
        "# 출력 결과\n",
        "\n",
        "# print(x_train, x_train.shape)\n",
        "# [1. 2. 3. 4. 5. 6.] (6,)\n",
        "\n",
        "# print(y_train, y_train.shape)\n",
        "# [10. 20. 30. 40. 50. 60.] (6,)\n",
        "\n",
        "\n",
        "import numpy as np\n",
        "\n",
        "xy = np.array([[1., 2., 3., 4., 5., 6.],\n",
        "              [10., 20., 30., 40., 50., 60.]])\n",
        "\n",
        "## 코드시작 ##\n",
        "\n",
        "x_train = ...    # ... 에 알맞은 코드를 작성해보세요.\n",
        "\n",
        "y_train = ...    # ... 에 알맞은 코드를 작성해보세요.\n",
        "\n",
        "## 코드종료 ##\n",
        "\n",
        "print(x_train, x_train.shape)\n",
        "print(y_train, y_train.shape)"
      ],
      "metadata": {
        "id": "kVQ6vBGLOwKh"
      },
      "execution_count": null,
      "outputs": []
    },
    {
      "cell_type": "markdown",
      "source": [
        "### [TODO] 2_ train, weight, bias 정의"
      ],
      "metadata": {
        "id": "2B0Pe2-HOORP"
      }
    },
    {
      "cell_type": "code",
      "source": [
        "# 미션 : 아래와 같은 출력 결과가 나타나도록 코드를 작성해보세요.\n",
        "\n",
        "##############################################\n",
        "#### 코드리뷰 2-2. 알맞은 코드를 직접 작성해보세요! ####\n",
        "##############################################\n",
        "\n",
        "# 프로그램 실행 예시\n",
        "# 출력 결과\n",
        "\n",
        "# print(beta_gd, bias)\n",
        "# [0.53764546] [0.71495179]    # randoma을 사용해 숫자를 만들어냈기 때문에, 출력결과는 다를 수 있습니다. 형태 위주로 확인해주세요."
      ],
      "metadata": {
        "id": "V8DU2paKP-PN"
      },
      "execution_count": null,
      "outputs": []
    },
    {
      "cell_type": "code",
      "source": [
        "## 코드시작 ##\n",
        "\n",
        "\n",
        "\n",
        "\n",
        "## 코드종료 ##\n",
        "\n",
        "print(beta_gd, bias)"
      ],
      "metadata": {
        "id": "u9ZhXkGlPuA5"
      },
      "execution_count": null,
      "outputs": []
    },
    {
      "cell_type": "markdown",
      "source": [
        "### [TODO] 3_ 경사하강법 구현"
      ],
      "metadata": {
        "id": "i07Boy0YOYd5"
      }
    },
    {
      "cell_type": "code",
      "source": [
        "# 미션 : 위와 같은 출력 결과가 나타나도록 코드를 작성해보세요.\n",
        "\n",
        "##############################################\n",
        "#### 코드리뷰 2-3. 알맞은 코드를 직접 작성해보세요! ####\n",
        "##############################################\n",
        "\n",
        "np.random.seed(0)\n",
        "beta_gd = np.random.rand(1)\n",
        "bias = np.random.rand(1)\n",
        "\n",
        "learning_rate = 0.001\n",
        "\n",
        "## 코드시작 ##\n",
        "for i in range(1000):\n",
        "  pred = ...\n",
        "  error = ...\n",
        "\n",
        "  gd_w = ((pred - y_train) * 2 * x_train).mean()\n",
        "  gd_b = ((pred - y_train) * 2).mean()\n",
        "\n",
        "  beta_gd -= learning_rate * gd_w\n",
        "  bias -= learning_rate * gd_b\n",
        "\n",
        "  if i % 100 == 0 :\n",
        "    # print(beta_gd)\n",
        "    print('Epoch {:10d}/1000 cost : {:10f}, w: {:10f}, b: {:10f}'.format(i, error, beta_gd.item(), bias.item()))\n",
        "\n"
      ],
      "metadata": {
        "id": "-WjLLs7eRkr9"
      },
      "execution_count": null,
      "outputs": []
    },
    {
      "cell_type": "markdown",
      "source": [
        "## 2. 코드리뷰 프로젝트 제출하기\n",
        "\n",
        "- 수행한 프로젝트 내용을 확인하고, 전체 코드를 파이썬 파일(.py)로 저장합니다.\n",
        "- 다운로드 받은 .py 파일을 zip으로 압축 및 제출하여 수행여부를 증빙합니다.\n",
        "- 이번 차시에 궁금한 점이 있다면, 본문에 내용을 함께 작성하여 제출할 수 있습니다."
      ],
      "metadata": {
        "id": "3vMHUm7EIpIB"
      }
    },
    {
      "cell_type": "markdown",
      "source": [
        "ALL RIGHTS RESERVED. (C)NAVER Connect Foundation."
      ],
      "metadata": {
        "id": "HtXjewgoToQJ"
      }
    }
  ]
}